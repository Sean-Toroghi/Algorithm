{
  "nbformat": 4,
  "nbformat_minor": 0,
  "metadata": {
    "colab": {
      "provenance": [],
      "authorship_tag": "ABX9TyPcgOj0caEoIyPYlXeKN0HN"
    },
    "kernelspec": {
      "name": "python3",
      "display_name": "Python 3"
    },
    "language_info": {
      "name": "python"
    }
  },
  "cells": [
    {
      "cell_type": "markdown",
      "source": [
        "# Implement Heap data structure"
      ],
      "metadata": {
        "id": "qyoya4NnsI20"
      }
    },
    {
      "cell_type": "markdown",
      "source": [],
      "metadata": {
        "id": "0aocccGFXcLf"
      }
    },
    {
      "cell_type": "code",
      "source": [
        "class MinHeap():\n",
        "  def __init__(self):\n",
        "    '''\n",
        "    Create heap data structure and implement the following functions:\n",
        "    1. insert\n",
        "    2. extract_min\n",
        "    3. find_min\n",
        "    4. heapify\n",
        "    5. heapsort\n",
        "    '''\n",
        "    # create heap data structure as an array\n",
        "    self.heap = []\n",
        "  def insert(self, x):\n",
        "    # insert new element to the end of heap data structure\n",
        "    self.heap.append(x)\n",
        "    # check if the newly added element satisfies heap property, if not swap- up\n",
        "    self.heapify_up(len(self.heap)-1)\n",
        "\n",
        "  def heapify_up(self, index):\n",
        "    # check after insert\n",
        "    # if the newly added element satisfies heap property, if not swap-up with the parent\n",
        "    parent = (index - 1) // 2\n",
        "    while index >0 and self.heap[index]< self.heap[parent]:\n",
        "      self.heap[index], self.heap[parent] = self.heap[parent], self.heap[index]\n",
        "      index = parent\n",
        "      parent = (index - 1 ) //2\n",
        "\n",
        "  def extract_min(self):\n",
        "    # extract the minimum element\n",
        "\n",
        "    # check base case\n",
        "    if len(self.heap) == 0: return None\n",
        "    elif len(self.heap) == 1 : return self.heap.pop()\n",
        "    else:\n",
        "      root = self.heap[0]\n",
        "      self.heap[0] = self.heap.pop()\n",
        "      #   check heap property and if it is violated, swap down\n",
        "      self.heapify_down(0)\n",
        "      return root\n",
        "  def heapify_down(self, index):\n",
        "    smallest = index\n",
        "    left = 2 * index + 1\n",
        "    right = 2 * index + 2\n",
        "\n",
        "    if left < len(self.heap) and self.heap[left] < self.heap[smallest]:\n",
        "      smallest = left\n",
        "    if right < len(self.heap) and self.heap[right] < self.heap[smallest]:\n",
        "      smallest = right\n",
        "    if smallest != index:\n",
        "      self.heap[index], self.heap[smallest] = self.heap[smallest], self.heap[index]\n",
        "      self.heapify_down(smallest)\n",
        "\n",
        "  def get_heap(self):\n",
        "    return self.heap"
      ],
      "metadata": {
        "id": "WNsXu18gsJfD"
      },
      "execution_count": 7,
      "outputs": []
    },
    {
      "cell_type": "code",
      "source": [
        "#xample\n",
        "heap = MinHeap()\n",
        "heap.insert(1)\n",
        "heap.insert(2)\n",
        "heap.insert(-2)\n",
        "heap.insert(-4)\n",
        "heap.insert(5)\n",
        "print(heap.get_heap())\n",
        "print(heap.extract_min())\n",
        "print(heap.get_heap())"
      ],
      "metadata": {
        "colab": {
          "base_uri": "https://localhost:8080/"
        },
        "id": "DLisdhJxZUUj",
        "outputId": "a9af4daf-5c87-4886-d072-9c51f700c2f9"
      },
      "execution_count": 8,
      "outputs": [
        {
          "output_type": "stream",
          "name": "stdout",
          "text": [
            "[-4, -2, 1, 2, 5]\n",
            "-4\n",
            "[-2, 2, 1, 5]\n"
          ]
        }
      ]
    },
    {
      "cell_type": "markdown",
      "source": [
        "# Kth Largest Element in an Array"
      ],
      "metadata": {
        "id": "hekjAVtA7CU3"
      }
    },
    {
      "cell_type": "markdown",
      "source": [
        "Given an integer array nums and an integer k, return the kth largest element in the array.\n",
        "\n",
        "Note that it is the kth largest element in the sorted order, not the kth distinct element.\n",
        "\n",
        "Can you solve it without sorting?\n",
        "\n",
        "\n",
        "```\n",
        "Example 1:\n",
        "\n",
        "Input: nums = [3,2,1,5,6,4], k = 2\n",
        "Output: 5\n",
        "Example 2:\n",
        "\n",
        "Input: nums = [3,2,3,1,2,4,5,5,6], k = 4\n",
        "Output: 4\n",
        "```"
      ],
      "metadata": {
        "id": "9QVU3qJT7IYk"
      }
    },
    {
      "cell_type": "markdown",
      "source": [
        "## Approach - employ min heap\n",
        "\n",
        "Iterate through the array's elements:\n",
        "- if min-heap has less than k elements, add the new element\n",
        "- if root value is larger than then the new element, replace root with the new element.\n",
        "- after iterate though all elements in the array, the value in root, is the kth largest value."
      ],
      "metadata": {
        "id": "BVtK63nq7jQ4"
      }
    },
    {
      "cell_type": "code",
      "source": [
        "import heapq\n",
        "\n",
        "def findKthLargest(nums, k):\n",
        "    # Create a min-heap with the first k elements from the array\n",
        "    min_heap = nums[:k]\n",
        "    heapq.heapify(min_heap)  # Convert list into a heap\n",
        "\n",
        "    # Iterate over the rest of the elements in the array\n",
        "    for num in nums[k:]:\n",
        "        if num > min_heap[0]:  # Compare with the smallest element in the heap\n",
        "            heapq.heappushpop(min_heap, num)  # Push new element and pop the smallest element\n",
        "\n",
        "    # The root of the min-heap is the k-th largest element\n",
        "    return min_heap[0]\n",
        "\n",
        "# Example usage:\n",
        "nums = [3, 2, 1, 5, 6, 4]\n",
        "k = 1\n",
        "print(findKthLargest(nums, k))  # Output: 5"
      ],
      "metadata": {
        "colab": {
          "base_uri": "https://localhost:8080/"
        },
        "id": "swcOmXFP83aU",
        "outputId": "b2afb645-2bbe-4503-c1fe-c6ddc892e2e0"
      },
      "execution_count": null,
      "outputs": [
        {
          "output_type": "stream",
          "name": "stdout",
          "text": [
            "6\n"
          ]
        }
      ]
    },
    {
      "cell_type": "markdown",
      "source": [
        "# IPO"
      ],
      "metadata": {
        "id": "Oe3yPxi6-BbY"
      }
    },
    {
      "cell_type": "markdown",
      "source": [
        "You are given n projects where the ith project has a pure profit profits[i] and a minimum capital of capital[i] is needed to start it.\n",
        "\n",
        "Initially, you have w capital. When you finish a project, you will obtain its pure profit and the profit will be added to your total capital.\n",
        "\n",
        "Pick a list of at most k distinct projects from given projects to maximize your final capital, and return the final maximized capital.\n",
        "\n",
        "The answer is guaranteed to fit in a 32-bit signed integer.\n",
        "\n",
        "```\n",
        "Example 1:\n",
        "\n",
        "Input: k = 2, w = 0, profits = [1,2,3], capital = [0,1,1]\n",
        "Output: 4\n",
        "Explanation: Since your initial capital is 0, you can only start the project indexed 0.\n",
        "After finishing it you will obtain profit 1 and your capital becomes 1.\n",
        "With capital 1, you can either start the project indexed 1 or the project indexed 2.\n",
        "Since you can choose at most 2 projects, you need to finish the project indexed 2 to get the maximum capital.\n",
        "Therefore, output the final maximized capital, which is 0 + 1 + 3 = 4.\n",
        "Example 2:\n",
        "\n",
        "Input: k = 3, w = 0, profits = [1,2,3], capital = [0,1,2]\n",
        "Output: 6\n",
        "```"
      ],
      "metadata": {
        "id": "oeqbi0KH-Csq"
      }
    },
    {
      "cell_type": "markdown",
      "source": [
        "## Approach: sorting + max-heap\n",
        "\n",
        "Steps:\n",
        "1. Sorting Projects by Capital: First, sort the projects by their required capital. This will help you process projects in order of increasing capital requirement.\n",
        "\n",
        "2. Using a Max-Heap: Use a max-heap (priority queue) to keep track of the profits of projects that can be started with the current available capital. This allows you to always pick the project with the highest profit.\n",
        "\n",
        "\n",
        "__Time Complexity__\n",
        "- Sorting: $O(n\\log n)$, where n is the number of projects.\n",
        "- Heap Operations: $O(n\\log k)$ for inserting and extracting from the heap, where k is the maximum number of projects you can select.\n",
        "\n",
        "__Space Complexity__\n",
        "- Heap Space: $O(k)$ for storing up to k projects' profits.\n",
        "- Sorting Space: $O(n)$ for the combined list of projects."
      ],
      "metadata": {
        "id": "s-zbFgMj-8Ep"
      }
    },
    {
      "cell_type": "code",
      "execution_count": null,
      "metadata": {
        "colab": {
          "base_uri": "https://localhost:8080/"
        },
        "id": "Sae1sOeQ7AdZ",
        "outputId": "94883943-bc75-425b-efb6-db86c8e0e0e9"
      },
      "outputs": [
        {
          "output_type": "stream",
          "name": "stdout",
          "text": [
            "4\n"
          ]
        }
      ],
      "source": [
        "import heapq\n",
        "\n",
        "def findMaximizedCapital(k, w, profits, capital):\n",
        "    # Combine capital and profits into a list of tuples\n",
        "    projects = list(zip(capital, profits))\n",
        "    # Sort projects by their required capital\n",
        "    projects.sort()\n",
        "\n",
        "    max_heap = []\n",
        "    i = 0\n",
        "    n = len(projects)\n",
        "\n",
        "    # Process up to k projects\n",
        "    for _ in range(k):\n",
        "        # Add all projects that can be started with current capital `w`\n",
        "        while i < n and projects[i][0] <= w:\n",
        "            # Push the profit into a max-heap (use negative profit to simulate max-heap)\n",
        "            heapq.heappush(max_heap, -projects[i][1])\n",
        "            i += 1\n",
        "\n",
        "        # If the max-heap is empty, no more projects can be started\n",
        "        if not max_heap:\n",
        "            break\n",
        "\n",
        "        # Pick the project with the maximum profit\n",
        "        w -= heapq.heappop(max_heap)  # Remove and return the largest profit (negated)\n",
        "\n",
        "    return w\n",
        "\n",
        "# Example usage:\n",
        "k = 2\n",
        "w = 0\n",
        "profits = [1, 2, 3]\n",
        "capital = [0, 1, 1]\n",
        "print(findMaximizedCapital(k, w, profits, capital))  # Output: 4"
      ]
    },
    {
      "cell_type": "markdown",
      "source": [
        "# Find K Pairs with Smallest Sums"
      ],
      "metadata": {
        "id": "X97FUk5HbmON"
      }
    },
    {
      "cell_type": "markdown",
      "source": [
        "You are given two integer arrays nums1 and nums2 sorted in non-decreasing order and an integer k.\n",
        "\n",
        "Define a pair (u, v) which consists of one element from the first array and one element from the second array.\n",
        "\n",
        "Return the k pairs (u1, v1), (u2, v2), ..., (uk, vk) with the smallest sums.\n",
        "\n",
        "\n",
        "```\n",
        "Example 1:\n",
        "\n",
        "Input: nums1 = [1,7,11], nums2 = [2,4,6], k = 3\n",
        "Output: [[1,2],[1,4],[1,6]]\n",
        "Explanation: The first 3 pairs are returned from the sequence: [1,2],[1,4],[1,6],[7,2],[7,4],[11,2],[7,6],[11,4],[11,6]\n",
        "Example 2:\n",
        "\n",
        "Input: nums1 = [1,1,2], nums2 = [1,2,3], k = 2\n",
        "Output: [[1,1],[1,1]]\n",
        "Explanation: The first 2 pairs are returned from the sequence: [1,1],[1,1],[1,2],[2,1],[1,2],[2,2],[1,3],[1,3],[2,3]\n",
        "```"
      ],
      "metadata": {
        "id": "xCo6Mqdkbphs"
      }
    },
    {
      "cell_type": "markdown",
      "source": [
        "## Approach - employ min heap\n",
        "\n",
        "__Upshot__:    \n",
        "1. Use i and j as pointers for the current positions in nums1 and nums2, respectively. `result` stores the pairs.\n",
        "\n",
        "2. Generate Pairs:\n",
        "  \n",
        "   For the current element in nums1[i], generate pairs with all elements in nums2 if nums1[i] is smaller than the current element in nums2. Add these pairs to the result list and decrement k for each pair added.\n",
        "\n",
        "3. Update Pointers:\n",
        "\n",
        "   Once you exhaust pairs for the current element in nums1[i], move to the next element in nums1 and restart the pairing process with the first element in nums2.\n",
        "\n",
        "4. Terminate:\n",
        "\n",
        "   The loop continues until k pairs are found or one of the arrays is exhausted.\n",
        "\n",
        "\n",
        "__Time Complexity:__ $O(k \\log \\min(m,n))$\n",
        "\n",
        "__Space complexity__: $O(\\min (m, n))$"
      ],
      "metadata": {
        "id": "Nnq2nB-MxIcw"
      }
    },
    {
      "cell_type": "code",
      "source": [
        "import heapq\n",
        "\n",
        "def kSmallestPairs(nums1, nums2, k):\n",
        "    if not nums1 or not nums2 or k <= 0:\n",
        "        return []\n",
        "\n",
        "    # Min-heap to store the pairs along with their indices\n",
        "    min_heap = []\n",
        "\n",
        "    # Populate the heap with the initial pairs (nums1[0] paired with each element in nums2)\n",
        "    for j in range(len(nums2)):\n",
        "        heapq.heappush(min_heap, (nums1[0] + nums2[j], 0, j))\n",
        "\n",
        "    result = []\n",
        "\n",
        "    while k > 0 and min_heap:\n",
        "        # Extract the smallest sum pair\n",
        "        current_sum, i, j = heapq.heappop(min_heap)\n",
        "        result.append((nums1[i], nums2[j]))\n",
        "        # If there is another element in nums1 to pair with nums2[j]\n",
        "        if i + 1 < len(nums1):\n",
        "            # Push the new pair into the heap\n",
        "\n",
        "            new_sum = nums1[i + 1] + nums2[j]\n",
        "            heapq.heappush(min_heap, (new_sum, i + 1, j))\n",
        "\n",
        "        k -= 1\n",
        "\n",
        "    return result\n",
        "\n",
        "# Example usage:\n",
        "nums1 = [1, 9, 11]\n",
        "nums2 = [2, 4, 5, 6, 11]\n",
        "k = 5\n",
        "print(kSmallestPairs(nums1, nums2, k))  # Output:"
      ],
      "metadata": {
        "colab": {
          "base_uri": "https://localhost:8080/"
        },
        "id": "bZ6jwBwoyGwg",
        "outputId": "b55a8c6d-1736-49e8-d49f-9e8774731e73"
      },
      "execution_count": null,
      "outputs": [
        {
          "output_type": "stream",
          "name": "stdout",
          "text": [
            "[(1, 2), (1, 4), (1, 5), (1, 6), (9, 2)]\n"
          ]
        }
      ]
    },
    {
      "cell_type": "markdown",
      "source": [
        "# Find Median from Data Stream\n",
        "\n"
      ],
      "metadata": {
        "id": "ZhU3z8FV40dr"
      }
    },
    {
      "cell_type": "markdown",
      "source": [
        "The median is the middle value in an ordered integer list. If the size of the list is even, there is no middle value, and the median is the mean of the two middle values.\n",
        "\n",
        "For example, for arr = [2,3,4], the median is 3.\n",
        "For example, for arr = [2,3], the median is (2 + 3) / 2 = 2.5.\n",
        "Implement the MedianFinder class:\n",
        "\n",
        "MedianFinder() initializes the MedianFinder object.\n",
        "void addNum(int num) adds the integer num from the data stream to the data structure.\n",
        "double findMedian() returns the median of all elements so far. Answers within 10-5 of the actual answer will be accepted.\n",
        "\n",
        "```\n",
        "Example 1:\n",
        "\n",
        "Input\n",
        "[\"MedianFinder\", \"addNum\", \"addNum\", \"findMedian\", \"addNum\", \"findMedian\"]\n",
        "[[], [1], [2], [], [3], []]\n",
        "Output\n",
        "[null, null, null, 1.5, null, 2.0]\n",
        "```"
      ],
      "metadata": {
        "id": "vwWSu2M35wvH"
      }
    },
    {
      "cell_type": "markdown",
      "source": [
        "## Approach - employ two heap data structures\n",
        "\n",
        "- employ two heap data structures: one min-heap and one max-heap, and keep their size balance as we get the new data. The max-heap maintain the lower half of the stream, and min-heap maintain the upper half of the stream.\n",
        "\n",
        "\n",
        "__Time Complexity:__ $O(\\log n)$\n",
        "\n",
        "__Space complexity__: $O(n)$"
      ],
      "metadata": {
        "id": "dkphQoY65pDD"
      }
    },
    {
      "cell_type": "code",
      "source": [
        "import heapq\n",
        "\n",
        "class MedianFinder:\n",
        "\n",
        "    def __init__(self):\n",
        "        # Max-heap (left half of the data) - simulated with negative values\n",
        "        self.left = []\n",
        "        # Min-heap (right half of the data)\n",
        "        self.right = []\n",
        "\n",
        "    def addNum(self, num: int) -> None:\n",
        "        # Add to max-heap (left) if it is empty or the number is less than or equal to the max of the max-heap\n",
        "        if not self.left or num <= -self.left[0]:\n",
        "            heapq.heappush(self.left, -num)\n",
        "        else:\n",
        "            heapq.heappush(self.right, num)\n",
        "\n",
        "        # Balance the heaps\n",
        "        if len(self.left) > len(self.right) + 1:\n",
        "            heapq.heappush(self.right, -heapq.heappop(self.left))\n",
        "        elif len(self.right) > len(self.left):\n",
        "            heapq.heappush(self.left, -heapq.heappop(self.right))\n",
        "\n",
        "    def findMedian(self) -> float:\n",
        "        if len(self.left) > len(self.right):\n",
        "            return -self.left[0]\n",
        "        return (-self.left[0] + self.right[0]) / 2.0\n",
        "\n",
        "# Example usage\n",
        "medianFinder = MedianFinder()\n",
        "medianFinder.addNum(1)\n",
        "print(medianFinder.findMedian())  # Output: 1.0\n",
        "medianFinder.addNum(2)\n",
        "print(medianFinder.findMedian())  # Output: 1.5\n",
        "medianFinder.addNum(3)\n",
        "print(medianFinder.findMedian())  # Output: 2.0"
      ],
      "metadata": {
        "colab": {
          "base_uri": "https://localhost:8080/"
        },
        "id": "ZF4pO_Om5yuk",
        "outputId": "631e42cb-ed30-4920-d046-18484dda770b"
      },
      "execution_count": null,
      "outputs": [
        {
          "output_type": "stream",
          "name": "stdout",
          "text": [
            "1\n",
            "1.5\n",
            "2\n"
          ]
        }
      ]
    },
    {
      "cell_type": "code",
      "source": [],
      "metadata": {
        "id": "wdpzqdztXX-f"
      },
      "execution_count": null,
      "outputs": []
    },
    {
      "cell_type": "markdown",
      "source": [
        "# Top X-sum of K-sub array"
      ],
      "metadata": {
        "id": "FKu7Sad83hfv"
      }
    },
    {
      "cell_type": "markdown",
      "source": [
        "Given array of integers, generate a list of sum of top x highest frequent numbers in k-sub arrays in the given array. If an array has less than x distinct elements, its x-sum is the sum of the array.\n",
        "\n",
        "```\n",
        "\n",
        "Example 1:\n",
        "\n",
        "Input: nums = [1,1,2,2,3,4,2,3], k = 6, x = 2\n",
        "\n",
        "Output: [6,10,12]\n",
        "\n",
        "Explanation:\n",
        "\n",
        "For subarray [1, 1, 2, 2, 3, 4], only elements 1 and 2 will be kept in the resulting array. Hence, answer[0] = 1 + 1 + 2 + 2.\n",
        "For subarray [1, 2, 2, 3, 4, 2], only elements 2 and 4 will be kept in the resulting array. Hence, answer[1] = 2 + 2 + 2 + 4. Note that 4 is kept in the array since it is bigger than 3 and 1 which occur the same number of times.\n",
        "For subarray [2, 2, 3, 4, 2, 3], only elements 2 and 3 are kept in the resulting array. Hence, answer[2] = 2 + 2 + 2 + 3 + 3.\n",
        "Example 2:\n",
        "\n",
        "Input: nums = [3,8,7,8,7,5], k = 2, x = 2\n",
        "\n",
        "Output: [11,15,15,15,12]\n",
        "\n",
        "Explanation:\n",
        "\n",
        "Since k == x, answer[i] is equal to the sum of the subarray nums[i..i + k - 1].\n",
        "```"
      ],
      "metadata": {
        "id": "fEtt5d9x38So"
      }
    },
    {
      "cell_type": "markdown",
      "source": [
        "## Solution 1: employ heap"
      ],
      "metadata": {
        "id": "VfcZTQOH94Sr"
      }
    },
    {
      "cell_type": "code",
      "source": [
        "import heapq\n",
        "from collections import Counter\n",
        "\n",
        "def x_sum_of_subarrays(nums, k, x):\n",
        "    n = len(nums)\n",
        "    result = []\n",
        "\n",
        "    # Function to compute the x-sum from the frequency counter using a heap\n",
        "    def get_top_x_elements_sum(counter, x):\n",
        "        # Create a max-heap (using negative values for max-heap behavior)\n",
        "        heap = []\n",
        "\n",
        "        # Add all elements to the heap based on their frequencies and values\n",
        "        for val, freq in counter.items():\n",
        "            heapq.heappush(heap, (-freq, -val))  # (-freq, -value) to simulate a max-heap\n",
        "\n",
        "        # Now, pick the top `x` elements from the heap and compute the sum of frequency * value\n",
        "        top_x_sum = 0\n",
        "        for _ in range(x):\n",
        "            if heap:\n",
        "                freq, val = heapq.heappop(heap)\n",
        "                top_x_sum += -freq * -val  # Negate to get the actual frequency and value\n",
        "\n",
        "        return top_x_sum\n",
        "\n",
        "    # Iterate over the array and create each subarray of length k\n",
        "    for i in range(n - k + 1):\n",
        "        # Get the current window (subarray of length k)\n",
        "        window = nums[i:i + k]\n",
        "\n",
        "        # Count the frequencies of the elements in the window\n",
        "        window_counter = Counter(window)\n",
        "\n",
        "        # Get the x-sum for this window\n",
        "        result.append(get_top_x_elements_sum(window_counter, x))\n",
        "\n",
        "    return result\n",
        "\n",
        "\n",
        "\n",
        "# Example Usage:\n",
        "nums = [1,1,2,2,3,4,2,3]\n",
        "k = 6\n",
        "x = 2\n",
        "print(x_sum_of_subarrays(nums, k, x))\n"
      ],
      "metadata": {
        "colab": {
          "base_uri": "https://localhost:8080/"
        },
        "id": "S1DGhmWU374D",
        "outputId": "8f9795ae-6f5c-4112-c26f-30da421de567"
      },
      "execution_count": null,
      "outputs": [
        {
          "output_type": "stream",
          "name": "stdout",
          "text": [
            "[6, 10, 12]\n"
          ]
        }
      ]
    },
    {
      "cell_type": "markdown",
      "source": [
        "## Soltuin 2"
      ],
      "metadata": {
        "id": "pOcEaOwzDfFS"
      }
    },
    {
      "cell_type": "code",
      "source": [
        "from collections import defaultdict\n",
        "from heapq import heappush, heappop\n",
        "\n",
        "class Solution:\n",
        "    def findXSum(self, nums, k, x):\n",
        "        n = len(nums)\n",
        "        freq = defaultdict(int)\n",
        "        ans = []\n",
        "\n",
        "        # Helper function to get the top x elements based on frequency and value\n",
        "        def get_top_x(freq_dict, x):\n",
        "            heap = []\n",
        "            # Push elements to the heap with (-count, -element) to simulate a max-heap\n",
        "            for num, count in freq_dict.items():\n",
        "                heappush(heap, (-count, -num))\n",
        "            top_x_sum = 0\n",
        "            for _ in range(x):\n",
        "                if heap:\n",
        "                    count, num = heappop(heap)\n",
        "                    top_x_sum += (-count) * (-num)  # Sum of frequency * element\n",
        "            return top_x_sum\n",
        "\n",
        "        # Initialize the frequency counter for the first window\n",
        "        for i in range(k):\n",
        "            freq[nums[i]] += 1\n",
        "\n",
        "        # Get the top x sum for the first window\n",
        "        current_top_x_sum = get_top_x(freq, x)\n",
        "        ans.append(current_top_x_sum)\n",
        "\n",
        "        # Sliding window across the array\n",
        "        for i in range(1, n - k + 1):\n",
        "            # Remove the element that is leaving the window\n",
        "            freq[nums[i - 1]] -= 1\n",
        "            if freq[nums[i - 1]] == 0:\n",
        "                del freq[nums[i - 1]]\n",
        "\n",
        "            # Add the new element that is entering the window\n",
        "            freq[nums[i + k - 1]] += 1\n",
        "\n",
        "            # Get the top x sum for the current window\n",
        "            current_top_x_sum = get_top_x(freq, x)\n",
        "            ans.append(current_top_x_sum)\n",
        "\n",
        "        return ans\n",
        "\n",
        "# Example Usage:\n",
        "nums = [1, 1, 2, 2, 3, 4, 2, 3]\n",
        "k = 6\n",
        "x = 2\n",
        "solution = Solution()\n",
        "print(solution.findXSum(nums, k, x))  # Output: [6, 6, 12, 10]\n"
      ],
      "metadata": {
        "colab": {
          "base_uri": "https://localhost:8080/"
        },
        "id": "MCSKhMnYBccw",
        "outputId": "7f89f86b-6404-4e03-af81-91ba1286d5d3"
      },
      "execution_count": null,
      "outputs": [
        {
          "output_type": "stream",
          "name": "stdout",
          "text": [
            "[6, 10, 12]\n"
          ]
        }
      ]
    }
  ]
}