{
  "nbformat": 4,
  "nbformat_minor": 0,
  "metadata": {
    "colab": {
      "provenance": []
    },
    "kernelspec": {
      "name": "python3",
      "display_name": "Python 3"
    },
    "language_info": {
      "name": "python"
    }
  },
  "cells": [
    {
      "cell_type": "markdown",
      "source": [
        "# Kth Largest Element in an Array"
      ],
      "metadata": {
        "id": "hekjAVtA7CU3"
      }
    },
    {
      "cell_type": "markdown",
      "source": [
        "Given an integer array nums and an integer k, return the kth largest element in the array.\n",
        "\n",
        "Note that it is the kth largest element in the sorted order, not the kth distinct element.\n",
        "\n",
        "Can you solve it without sorting?\n",
        "\n",
        "\n",
        "```\n",
        "Example 1:\n",
        "\n",
        "Input: nums = [3,2,1,5,6,4], k = 2\n",
        "Output: 5\n",
        "Example 2:\n",
        "\n",
        "Input: nums = [3,2,3,1,2,4,5,5,6], k = 4\n",
        "Output: 4\n",
        "```"
      ],
      "metadata": {
        "id": "9QVU3qJT7IYk"
      }
    },
    {
      "cell_type": "markdown",
      "source": [
        "## Approach - employ min heap\n",
        "\n",
        "Iterate through the array's elements:\n",
        "- if min-heap has less than k elements, add the new element\n",
        "- if root value is larger than then the new element, replace root with the new element.\n",
        "- after iterate though all elements in the array, the value in root, is the kth largest value."
      ],
      "metadata": {
        "id": "BVtK63nq7jQ4"
      }
    },
    {
      "cell_type": "code",
      "source": [
        "import heapq\n",
        "\n",
        "def findKthLargest(nums, k):\n",
        "    # Create a min-heap with the first k elements from the array\n",
        "    min_heap = nums[:k]\n",
        "    heapq.heapify(min_heap)  # Convert list into a heap\n",
        "\n",
        "    # Iterate over the rest of the elements in the array\n",
        "    for num in nums[k:]:\n",
        "        if num > min_heap[0]:  # Compare with the smallest element in the heap\n",
        "            heapq.heappushpop(min_heap, num)  # Push new element and pop the smallest element\n",
        "\n",
        "    # The root of the min-heap is the k-th largest element\n",
        "    return min_heap[0]\n",
        "\n",
        "# Example usage:\n",
        "nums = [3, 2, 1, 5, 6, 4]\n",
        "k = 1\n",
        "print(findKthLargest(nums, k))  # Output: 5"
      ],
      "metadata": {
        "colab": {
          "base_uri": "https://localhost:8080/"
        },
        "id": "swcOmXFP83aU",
        "outputId": "b2afb645-2bbe-4503-c1fe-c6ddc892e2e0"
      },
      "execution_count": 2,
      "outputs": [
        {
          "output_type": "stream",
          "name": "stdout",
          "text": [
            "6\n"
          ]
        }
      ]
    },
    {
      "cell_type": "markdown",
      "source": [
        "# IPO"
      ],
      "metadata": {
        "id": "Oe3yPxi6-BbY"
      }
    },
    {
      "cell_type": "markdown",
      "source": [
        "You are given n projects where the ith project has a pure profit profits[i] and a minimum capital of capital[i] is needed to start it.\n",
        "\n",
        "Initially, you have w capital. When you finish a project, you will obtain its pure profit and the profit will be added to your total capital.\n",
        "\n",
        "Pick a list of at most k distinct projects from given projects to maximize your final capital, and return the final maximized capital.\n",
        "\n",
        "The answer is guaranteed to fit in a 32-bit signed integer.\n",
        "\n",
        "```\n",
        "Example 1:\n",
        "\n",
        "Input: k = 2, w = 0, profits = [1,2,3], capital = [0,1,1]\n",
        "Output: 4\n",
        "Explanation: Since your initial capital is 0, you can only start the project indexed 0.\n",
        "After finishing it you will obtain profit 1 and your capital becomes 1.\n",
        "With capital 1, you can either start the project indexed 1 or the project indexed 2.\n",
        "Since you can choose at most 2 projects, you need to finish the project indexed 2 to get the maximum capital.\n",
        "Therefore, output the final maximized capital, which is 0 + 1 + 3 = 4.\n",
        "Example 2:\n",
        "\n",
        "Input: k = 3, w = 0, profits = [1,2,3], capital = [0,1,2]\n",
        "Output: 6\n",
        "```"
      ],
      "metadata": {
        "id": "oeqbi0KH-Csq"
      }
    },
    {
      "cell_type": "markdown",
      "source": [
        "## Approach: sorting + max-heap\n",
        "\n",
        "Steps:\n",
        "1. Sorting Projects by Capital: First, sort the projects by their required capital. This will help you process projects in order of increasing capital requirement.\n",
        "\n",
        "2. Using a Max-Heap: Use a max-heap (priority queue) to keep track of the profits of projects that can be started with the current available capital. This allows you to always pick the project with the highest profit.\n",
        "\n",
        "\n",
        "__Time Complexity__\n",
        "- Sorting: $O(n\\log n)$, where n is the number of projects.\n",
        "- Heap Operations: $O(n\\log k)$ for inserting and extracting from the heap, where k is the maximum number of projects you can select.\n",
        "\n",
        "__Space Complexity__\n",
        "- Heap Space: $O(k)$ for storing up to k projects' profits.\n",
        "- Sorting Space: $O(n)$ for the combined list of projects."
      ],
      "metadata": {
        "id": "s-zbFgMj-8Ep"
      }
    },
    {
      "cell_type": "code",
      "execution_count": 3,
      "metadata": {
        "colab": {
          "base_uri": "https://localhost:8080/"
        },
        "id": "Sae1sOeQ7AdZ",
        "outputId": "94883943-bc75-425b-efb6-db86c8e0e0e9"
      },
      "outputs": [
        {
          "output_type": "stream",
          "name": "stdout",
          "text": [
            "4\n"
          ]
        }
      ],
      "source": [
        "import heapq\n",
        "\n",
        "def findMaximizedCapital(k, w, profits, capital):\n",
        "    # Combine capital and profits into a list of tuples\n",
        "    projects = list(zip(capital, profits))\n",
        "    # Sort projects by their required capital\n",
        "    projects.sort()\n",
        "\n",
        "    max_heap = []\n",
        "    i = 0\n",
        "    n = len(projects)\n",
        "\n",
        "    # Process up to k projects\n",
        "    for _ in range(k):\n",
        "        # Add all projects that can be started with current capital `w`\n",
        "        while i < n and projects[i][0] <= w:\n",
        "            # Push the profit into a max-heap (use negative profit to simulate max-heap)\n",
        "            heapq.heappush(max_heap, -projects[i][1])\n",
        "            i += 1\n",
        "\n",
        "        # If the max-heap is empty, no more projects can be started\n",
        "        if not max_heap:\n",
        "            break\n",
        "\n",
        "        # Pick the project with the maximum profit\n",
        "        w -= heapq.heappop(max_heap)  # Remove and return the largest profit (negated)\n",
        "\n",
        "    return w\n",
        "\n",
        "# Example usage:\n",
        "k = 2\n",
        "w = 0\n",
        "profits = [1, 2, 3]\n",
        "capital = [0, 1, 1]\n",
        "print(findMaximizedCapital(k, w, profits, capital))  # Output: 4"
      ]
    },
    {
      "cell_type": "markdown",
      "source": [
        "# Find K Pairs with Smallest Sums"
      ],
      "metadata": {
        "id": "X97FUk5HbmON"
      }
    },
    {
      "cell_type": "markdown",
      "source": [
        "You are given two integer arrays nums1 and nums2 sorted in non-decreasing order and an integer k.\n",
        "\n",
        "Define a pair (u, v) which consists of one element from the first array and one element from the second array.\n",
        "\n",
        "Return the k pairs (u1, v1), (u2, v2), ..., (uk, vk) with the smallest sums.\n",
        "\n",
        "\n",
        "```\n",
        "Example 1:\n",
        "\n",
        "Input: nums1 = [1,7,11], nums2 = [2,4,6], k = 3\n",
        "Output: [[1,2],[1,4],[1,6]]\n",
        "Explanation: The first 3 pairs are returned from the sequence: [1,2],[1,4],[1,6],[7,2],[7,4],[11,2],[7,6],[11,4],[11,6]\n",
        "Example 2:\n",
        "\n",
        "Input: nums1 = [1,1,2], nums2 = [1,2,3], k = 2\n",
        "Output: [[1,1],[1,1]]\n",
        "Explanation: The first 2 pairs are returned from the sequence: [1,1],[1,1],[1,2],[2,1],[1,2],[2,2],[1,3],[1,3],[2,3]\n",
        "```"
      ],
      "metadata": {
        "id": "xCo6Mqdkbphs"
      }
    },
    {
      "cell_type": "markdown",
      "source": [
        "## Approach - employ min heap\n",
        "\n",
        "__Upshot__:    \n",
        "1. Use i and j as pointers for the current positions in nums1 and nums2, respectively. `result` stores the pairs.\n",
        "\n",
        "2. Generate Pairs:\n",
        "  \n",
        "   For the current element in nums1[i], generate pairs with all elements in nums2 if nums1[i] is smaller than the current element in nums2. Add these pairs to the result list and decrement k for each pair added.\n",
        "\n",
        "3. Update Pointers:\n",
        "\n",
        "   Once you exhaust pairs for the current element in nums1[i], move to the next element in nums1 and restart the pairing process with the first element in nums2.\n",
        "\n",
        "4. Terminate:\n",
        "\n",
        "   The loop continues until k pairs are found or one of the arrays is exhausted.\n",
        "\n",
        "\n",
        "__Time Complexity:__ $O(k \\log \\min(m,n))$\n",
        "\n",
        "__Space complexity__: $O(\\min (m, n))$"
      ],
      "metadata": {
        "id": "Nnq2nB-MxIcw"
      }
    },
    {
      "cell_type": "code",
      "source": [
        "import heapq\n",
        "\n",
        "def kSmallestPairs(nums1, nums2, k):\n",
        "    if not nums1 or not nums2 or k <= 0:\n",
        "        return []\n",
        "\n",
        "    # Min-heap to store the pairs along with their indices\n",
        "    min_heap = []\n",
        "\n",
        "    # Populate the heap with the initial pairs (nums1[0] paired with each element in nums2)\n",
        "    for j in range(len(nums2)):\n",
        "        heapq.heappush(min_heap, (nums1[0] + nums2[j], 0, j))\n",
        "\n",
        "    result = []\n",
        "\n",
        "    while k > 0 and min_heap:\n",
        "        # Extract the smallest sum pair\n",
        "        current_sum, i, j = heapq.heappop(min_heap)\n",
        "        result.append((nums1[i], nums2[j]))\n",
        "        # If there is another element in nums1 to pair with nums2[j]\n",
        "        if i + 1 < len(nums1):\n",
        "            # Push the new pair into the heap\n",
        "\n",
        "            new_sum = nums1[i + 1] + nums2[j]\n",
        "            heapq.heappush(min_heap, (new_sum, i + 1, j))\n",
        "\n",
        "        k -= 1\n",
        "\n",
        "    return result\n",
        "\n",
        "# Example usage:\n",
        "nums1 = [1, 9, 11]\n",
        "nums2 = [2, 4, 5, 6, 11]\n",
        "k = 5\n",
        "print(kSmallestPairs(nums1, nums2, k))  # Output:"
      ],
      "metadata": {
        "colab": {
          "base_uri": "https://localhost:8080/"
        },
        "id": "bZ6jwBwoyGwg",
        "outputId": "b55a8c6d-1736-49e8-d49f-9e8774731e73"
      },
      "execution_count": 11,
      "outputs": [
        {
          "output_type": "stream",
          "name": "stdout",
          "text": [
            "[(1, 2), (1, 4), (1, 5), (1, 6), (9, 2)]\n"
          ]
        }
      ]
    },
    {
      "cell_type": "markdown",
      "source": [
        "# Find Median from Data Stream\n",
        "\n",
        ""
      ],
      "metadata": {
        "id": "ZhU3z8FV40dr"
      }
    },
    {
      "cell_type": "markdown",
      "source": [
        "The median is the middle value in an ordered integer list. If the size of the list is even, there is no middle value, and the median is the mean of the two middle values.\n",
        "\n",
        "For example, for arr = [2,3,4], the median is 3.\n",
        "For example, for arr = [2,3], the median is (2 + 3) / 2 = 2.5.\n",
        "Implement the MedianFinder class:\n",
        "\n",
        "MedianFinder() initializes the MedianFinder object.\n",
        "void addNum(int num) adds the integer num from the data stream to the data structure.\n",
        "double findMedian() returns the median of all elements so far. Answers within 10-5 of the actual answer will be accepted.\n",
        "\n",
        "```\n",
        "Example 1:\n",
        "\n",
        "Input\n",
        "[\"MedianFinder\", \"addNum\", \"addNum\", \"findMedian\", \"addNum\", \"findMedian\"]\n",
        "[[], [1], [2], [], [3], []]\n",
        "Output\n",
        "[null, null, null, 1.5, null, 2.0]\n",
        "```"
      ],
      "metadata": {
        "id": "vwWSu2M35wvH"
      }
    },
    {
      "cell_type": "markdown",
      "source": [
        "## Approach - employ two heap data structures\n",
        "\n",
        "- employ two heap data structures: one min-heap and one max-heap, and keep their size balance as we get the new data. The max-heap maintain the lower half of the stream, and min-heap maintain the upper half of the stream.\n",
        "\n",
        "\n",
        "__Time Complexity:__ $O(\\log n)$\n",
        "\n",
        "__Space complexity__: $O(n)$"
      ],
      "metadata": {
        "id": "dkphQoY65pDD"
      }
    },
    {
      "cell_type": "code",
      "source": [
        "import heapq\n",
        "\n",
        "class MedianFinder:\n",
        "\n",
        "    def __init__(self):\n",
        "        # Max-heap (left half of the data) - simulated with negative values\n",
        "        self.left = []\n",
        "        # Min-heap (right half of the data)\n",
        "        self.right = []\n",
        "\n",
        "    def addNum(self, num: int) -> None:\n",
        "        # Add to max-heap (left) if it is empty or the number is less than or equal to the max of the max-heap\n",
        "        if not self.left or num <= -self.left[0]:\n",
        "            heapq.heappush(self.left, -num)\n",
        "        else:\n",
        "            heapq.heappush(self.right, num)\n",
        "\n",
        "        # Balance the heaps\n",
        "        if len(self.left) > len(self.right) + 1:\n",
        "            heapq.heappush(self.right, -heapq.heappop(self.left))\n",
        "        elif len(self.right) > len(self.left):\n",
        "            heapq.heappush(self.left, -heapq.heappop(self.right))\n",
        "\n",
        "    def findMedian(self) -> float:\n",
        "        if len(self.left) > len(self.right):\n",
        "            return -self.left[0]\n",
        "        return (-self.left[0] + self.right[0]) / 2.0\n",
        "\n",
        "# Example usage\n",
        "medianFinder = MedianFinder()\n",
        "medianFinder.addNum(1)\n",
        "print(medianFinder.findMedian())  # Output: 1.0\n",
        "medianFinder.addNum(2)\n",
        "print(medianFinder.findMedian())  # Output: 1.5\n",
        "medianFinder.addNum(3)\n",
        "print(medianFinder.findMedian())  # Output: 2.0"
      ],
      "metadata": {
        "colab": {
          "base_uri": "https://localhost:8080/"
        },
        "id": "ZF4pO_Om5yuk",
        "outputId": "631e42cb-ed30-4920-d046-18484dda770b"
      },
      "execution_count": 12,
      "outputs": [
        {
          "output_type": "stream",
          "name": "stdout",
          "text": [
            "1\n",
            "1.5\n",
            "2\n"
          ]
        }
      ]
    }
  ]
}
