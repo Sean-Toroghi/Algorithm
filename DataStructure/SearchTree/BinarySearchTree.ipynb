{
  "nbformat": 4,
  "nbformat_minor": 0,
  "metadata": {
    "colab": {
      "provenance": [],
      "authorship_tag": "ABX9TyO91Dg0eE8BAvQHSKsCB+h4",
      "include_colab_link": true
    },
    "kernelspec": {
      "name": "python3",
      "display_name": "Python 3"
    },
    "language_info": {
      "name": "python"
    }
  },
  "cells": [
    {
      "cell_type": "markdown",
      "metadata": {
        "id": "view-in-github",
        "colab_type": "text"
      },
      "source": [
        "<a href=\"https://colab.research.google.com/github/Sean-Toroghi/Algorithm/blob/master/DataStructure/SearchTree/BinarySearchTree.ipynb\" target=\"_parent\"><img src=\"https://colab.research.google.com/assets/colab-badge.svg\" alt=\"Open In Colab\"/></a>"
      ]
    },
    {
      "cell_type": "markdown",
      "source": [
        "# Search Position"
      ],
      "metadata": {
        "id": "kb_HKnzef5Ph"
      }
    },
    {
      "cell_type": "markdown",
      "source": [
        "Given a sorted array of distinct integers and a target value, return the index if the target is found.\n",
        "You must write an algorithm with O(log n) runtime complexity.\n",
        "\n",
        "\n",
        "```\n",
        "Example 1:\n",
        "\n",
        "Input: nums = [1,3,5,6], target = 5\n",
        "Output: 2\n",
        "Example 2:\n",
        "\n",
        "Input: nums = [1,3,5,6], target = 2\n",
        "Output: 1\n",
        "Example 3:\n",
        "\n",
        "Input: nums = [1,3,5,6], target = 7\n",
        "Output: 4\n",
        "```"
      ],
      "metadata": {
        "id": "hudY_ngRf9SK"
      }
    },
    {
      "cell_type": "markdown",
      "source": [
        "## Approaach - this is a straight forward implementation of _binary search_ algorithm"
      ],
      "metadata": {
        "id": "XfzByDVCgF98"
      }
    },
    {
      "cell_type": "code",
      "source": [
        "def binary_search(nums, target):\n",
        "  l = len(nums)\n",
        "  if l == 0:\n",
        "      return -1  # Return -1 to indicate not found\n",
        "  elif l == 1:\n",
        "      if nums[0] == target:\n",
        "          return 0\n",
        "      else:\n",
        "          return -1  # Return -1 if the single element is not the target\n",
        "\n",
        "  mid = l // 2\n",
        "  if nums[mid] == target:\n",
        "      return mid\n",
        "  elif nums[mid] > target:\n",
        "      return binary_search(nums[:mid], target)\n",
        "  else:\n",
        "      right_search_result = binary_search(nums[mid + 1:], target)\n",
        "      return mid + 1 + right_search_result if right_search_result != -1 else -1\n",
        "\n",
        "# Example 1\n",
        "nums = [1,3,5,6]\n",
        "target = 5\n",
        "print(binary_search(nums, target))\n",
        "\n",
        "# Example 2\n",
        "nums = [1,3,5,6]\n",
        "target = 7\n",
        "print(binary_search(nums, target))\n",
        "\n",
        "# Example 3\n",
        "nums = [1,3,5,6]\n",
        "target = 2\n",
        "print(binary_search(nums, target))"
      ],
      "metadata": {
        "colab": {
          "base_uri": "https://localhost:8080/"
        },
        "id": "-8GmZ4-dhE_c",
        "outputId": "2d1c6f0b-af30-4818-884c-f37074c23ec3"
      },
      "execution_count": null,
      "outputs": [
        {
          "output_type": "stream",
          "name": "stdout",
          "text": [
            "2\n",
            "-1\n",
            "-1\n"
          ]
        }
      ]
    },
    {
      "cell_type": "markdown",
      "source": [
        "# Search position / Insert"
      ],
      "metadata": {
        "id": "1R-2SVyqjRS2"
      }
    },
    {
      "cell_type": "markdown",
      "source": [
        "Write a code to implement the same task as the previous one, except if it could not find the `target`, the function returns the index where it would be if it were inserted in order.\n"
      ],
      "metadata": {
        "id": "p1OvycXWjbAF"
      }
    },
    {
      "cell_type": "code",
      "source": [
        "def Search_Insert_Position(nums, target):\n",
        "    l = len(nums)\n",
        "\n",
        "    if l == 0:\n",
        "        return 0  # If the list is empty, return index 0.\n",
        "\n",
        "    left, right = 0, l - 1\n",
        "\n",
        "    while left <= right:\n",
        "        mid = (left + right) // 2\n",
        "\n",
        "        if nums[mid] == target:\n",
        "            return mid  # Target found\n",
        "        elif nums[mid] < target:\n",
        "            left = mid + 1  # Search in the right half\n",
        "        else:\n",
        "            right = mid - 1  # Search in the left half\n",
        "\n",
        "    return left  # If not found, left is the index where target would be inserted\n",
        "\n",
        "# Example usage:\n",
        "nums = [1, 2, 4, 5]\n",
        "target = 3\n",
        "print(Search_Insert_Position(nums, target))"
      ],
      "metadata": {
        "colab": {
          "base_uri": "https://localhost:8080/"
        },
        "id": "npR93ZmLjw-T",
        "outputId": "6ff1193e-8ebb-475f-a1b3-415d4cd0d128"
      },
      "execution_count": null,
      "outputs": [
        {
          "output_type": "stream",
          "name": "stdout",
          "text": [
            "2\n"
          ]
        }
      ]
    },
    {
      "cell_type": "markdown",
      "source": [
        "# Search a 2D Matrix"
      ],
      "metadata": {
        "id": "fIFu1dhsp76q"
      }
    },
    {
      "cell_type": "markdown",
      "source": [
        "You are given an _m x n_ integer matrix matrix with the following two properties:\n",
        "\n",
        "- Each row is sorted in non-decreasing order.\n",
        "- The first integer of each row is greater than the last integer of the previous row.\n",
        "\n",
        "Given an integer target, return true if target is in matrix or false otherwise.\n",
        "\n",
        "You must write a solution in O(log(m * n)) time complexity."
      ],
      "metadata": {
        "id": "uzkar6qbp-3D"
      }
    },
    {
      "cell_type": "markdown",
      "source": [
        "## Approach -\n",
        "\n",
        "This problem can be seen as a chuncked sorted array into m pieces (rows).\n",
        "\n",
        "Two binary search algorithm can be used to find target, first will find the row by searching an array consist of  int from first column (the starting value for each row). The second binary search will search the row.\n",
        "\n",
        "__Time complexity__ $O(\\log m)$ to find the correct row, and $O(\\log n)$ to find the targt in that row, the total time $O(\\log m + \\log n)$"
      ],
      "metadata": {
        "id": "kRSD1xmSqPvU"
      }
    },
    {
      "cell_type": "code",
      "source": [
        "def binary_search(arr, target, low, high):\n",
        "    while low <= high:\n",
        "        mid = low + (high - low) // 2\n",
        "        if arr[mid] == target:\n",
        "            return True\n",
        "        elif arr[mid] < target:\n",
        "            low = mid + 1\n",
        "        else:\n",
        "            high = mid - 1\n",
        "    return False\n",
        "\n",
        "def search_matrix(matrix, target):\n",
        "    if not matrix or not matrix[0]:\n",
        "        return False\n",
        "\n",
        "    rows = len(matrix)\n",
        "    low, high = 0, rows - 1\n",
        "\n",
        "    # Step 1: Find the correct row using binary search\n",
        "    while low <= high:\n",
        "        mid = low + (high - low) // 2\n",
        "        if target < matrix[mid][0]:\n",
        "            high = mid - 1\n",
        "        elif target > matrix[mid][-1]:\n",
        "            low = mid + 1\n",
        "        else:\n",
        "            # Target is within the range of this row\n",
        "            return binary_search(matrix[mid], target, 0, len(matrix[mid]) - 1)\n",
        "\n",
        "    return False  # Target not found in any row\n",
        "\n",
        "# Example usage:\n",
        "matrix = [[1,3,5,7],[10,11,16,20],[23,30,34,60]]\n",
        "target = 3\n",
        "print(search_matrix(matrix, target))  # Output: True\n",
        "\n",
        "target = 8\n",
        "print(search_matrix(matrix, target))  # Output: False\n"
      ],
      "metadata": {
        "colab": {
          "base_uri": "https://localhost:8080/"
        },
        "id": "jehgOiFBp-XJ",
        "outputId": "17e8dfa2-55ef-4bf5-edd5-eda0072cc7ed"
      },
      "execution_count": null,
      "outputs": [
        {
          "output_type": "stream",
          "name": "stdout",
          "text": [
            "True\n",
            "False\n"
          ]
        }
      ]
    },
    {
      "cell_type": "code",
      "source": [],
      "metadata": {
        "colab": {
          "base_uri": "https://localhost:8080/"
        },
        "id": "7j0UfKgDyIml",
        "outputId": "35af0ca4-d76d-4bad-c09c-8de2b064680a"
      },
      "execution_count": null,
      "outputs": [
        {
          "output_type": "stream",
          "name": "stdout",
          "text": [
            "True\n",
            "False\n"
          ]
        }
      ]
    },
    {
      "cell_type": "markdown",
      "source": [
        "# Find Peak Element\n"
      ],
      "metadata": {
        "id": "DjL8vXv-SmNL"
      }
    },
    {
      "cell_type": "markdown",
      "source": [
        "\n",
        "A peak element is an element that is strictly greater than its neighbors.\n",
        "\n",
        "Given a 0-indexed integer array nums, find a peak element, and return its index. If the array contains multiple peaks, return the index to any of the peaks.\n",
        "\n",
        "You may imagine that nums[-1] = nums[n] = -∞. In other words, an element is always considered to be strictly greater than a neighbor that is outside the array.\n",
        "\n",
        "You must write an algorithm that runs in O(log n) time.\n",
        "\n",
        "\n",
        "```\n",
        "Example 1:\n",
        "\n",
        "Input: nums = [1,2,3,1]\n",
        "Output: 2\n",
        "Explanation: 3 is a peak element and your function should return the index number 2.\n",
        "Example 2:\n",
        "\n",
        "Input: nums = [1,2,1,3,5,6,4]\n",
        "Output: 5\n",
        "Explanation: Your function can return either index number 1 where the peak element is 2, or index number 5 where the peak element is 6.\n",
        "```"
      ],
      "metadata": {
        "id": "c8JZbGroStBp"
      }
    },
    {
      "cell_type": "markdown",
      "source": [
        "## Solution"
      ],
      "metadata": {
        "id": "9Dq70iTpSvfc"
      }
    },
    {
      "cell_type": "markdown",
      "source": [
        "Similar to the concept of BST. Start in the middle and compareit with the left and right\n",
        "- if left be larger, the peak is on the left\n",
        "- if the right is larger, the peak is on the right\n",
        "- select the side that the peak is at and continue recursively  \n",
        "\n",
        "\n"
      ],
      "metadata": {
        "id": "-oKarORsSxrW"
      }
    },
    {
      "cell_type": "code",
      "source": [
        "def find_local_optimum(nums):\n",
        "  '''\n",
        "  given an array, return local optimum (peak) index on O(log n)\n",
        "  '''\n",
        "  left, right = 0, len(nums) - 1\n",
        "  while left < right:\n",
        "    mid = (left + right) // 2\n",
        "    if nums[mid] > nums[mid + 1]:\n",
        "      # The peak is in the left half (including mid)\n",
        "      right = mid\n",
        "    else:\n",
        "      # The peak is in the right half (excluding mid)\n",
        "      left = mid + 1\n",
        "  return left\n",
        "\n",
        "# example\n",
        "nums = [1,2,1,3,5,6,4]\n",
        "print(find_local_optimum(nums))\n",
        ""
      ],
      "metadata": {
        "colab": {
          "base_uri": "https://localhost:8080/"
        },
        "id": "STAxpHUESrqh",
        "outputId": "e92441b4-be06-4702-8e7b-9870963288a9"
      },
      "execution_count": 2,
      "outputs": [
        {
          "output_type": "stream",
          "name": "stdout",
          "text": [
            "5\n"
          ]
        }
      ]
    },
    {
      "cell_type": "markdown",
      "source": [
        "# Median of Two Sorted Arrays"
      ],
      "metadata": {
        "id": "Tid7CLUszWRe"
      }
    },
    {
      "cell_type": "markdown",
      "source": [
        "Given two sorted arrays nums1 and nums2 of size m and n respectively, return the median of the two sorted arrays.\n",
        "\n",
        "The overall run time complexity should be O(log (m+n)).\n",
        "\n",
        "\n",
        "```\n",
        "Example 1:\n",
        "\n",
        "Input: nums1 = [1,3], nums2 = [2]\n",
        "Output: 2.00000\n",
        "Explanation: merged array = [1,2,3] and median is 2.\n",
        "Example 2:\n",
        "\n",
        "Input: nums1 = [1,2], nums2 = [3,4]\n",
        "Output: 2.50000\n",
        "Explanation: merged array = [1,2,3,4] and median is (2 + 3) / 2 = 2.5.\n",
        "```"
      ],
      "metadata": {
        "id": "9cHHLNgwzYyx"
      }
    },
    {
      "cell_type": "markdown",
      "source": [
        "## Approach - employ binary search\n",
        "\n",
        "Steps\n",
        "- Partition the arrays so that the left half and the right half have an equal number of elements (or differ by one if the total number of elements is odd).\n",
        "\n",
        "- Ensure that all elements on the left half are less than or equal to all elements on the right half.\n",
        "\n",
        "- Calculate the median based on the maximum of the left half and the minimum of the right half."
      ],
      "metadata": {
        "id": "cLiWcGVq8zgs"
      }
    },
    {
      "cell_type": "code",
      "source": [
        "def findMedianSortedArrays(nums1, nums2):\n",
        "    # Ensure nums1 is the smaller array\n",
        "    if len(nums1) > len(nums2):\n",
        "        nums1, nums2 = nums2, nums1\n",
        "\n",
        "    m, n = len(nums1), len(nums2)\n",
        "    imin, imax, half_len = 0, m, (m + n + 1) // 2\n",
        "\n",
        "    while imin <= imax:\n",
        "        i = (imin + imax) // 2\n",
        "        j = half_len - i\n",
        "\n",
        "        if i < m and nums1[i] < nums2[j - 1]:\n",
        "            imin = i + 1\n",
        "        elif i > 0 and nums1[i - 1] > nums2[j]:\n",
        "            imax = i - 1\n",
        "        else:\n",
        "            if i == 0: max_of_left = nums2[j - 1]\n",
        "            elif j == 0: max_of_left = nums1[i - 1]\n",
        "            else: max_of_left = max(nums1[i - 1], nums2[j - 1])\n",
        "\n",
        "            if (m + n) % 2 == 1:\n",
        "                return max_of_left\n",
        "\n",
        "            if i == m: min_of_right = nums2[j]\n",
        "            elif j == n: min_of_right = nums1[i]\n",
        "            else: min_of_right = min(nums1[i], nums2[j])\n",
        "\n",
        "            return (max_of_left + min_of_right) / 2.0\n",
        "\n",
        "# Example usage:\n",
        "nums1 = [1, 3]\n",
        "nums2 = [2]\n",
        "print(findMedianSortedArrays(nums1, nums2))  # Output should be 2.0\n",
        "\n",
        "nums1 = [1, 2]\n",
        "nums2 = [3, 4]\n",
        "print(findMedianSortedArrays(nums1, nums2))  # Output should be 2.5\n"
      ],
      "metadata": {
        "colab": {
          "base_uri": "https://localhost:8080/"
        },
        "id": "22S9YgfDW5r7",
        "outputId": "de3dc7ec-e765-4fa1-dc6f-6345b9efdcdb"
      },
      "execution_count": 3,
      "outputs": [
        {
          "output_type": "stream",
          "name": "stdout",
          "text": [
            "2\n",
            "2.5\n"
          ]
        }
      ]
    }
  ]
}