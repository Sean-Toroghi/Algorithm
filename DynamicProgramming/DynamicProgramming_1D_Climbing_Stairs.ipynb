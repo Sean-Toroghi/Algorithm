{
  "nbformat": 4,
  "nbformat_minor": 0,
  "metadata": {
    "colab": {
      "provenance": []
    },
    "kernelspec": {
      "name": "python3",
      "display_name": "Python 3"
    },
    "language_info": {
      "name": "python"
    }
  },
  "cells": [
    {
      "cell_type": "markdown",
      "source": [
        "# 1d dynamic programming: Climbing Stairs"
      ],
      "metadata": {
        "id": "VNi0FBpO2Gzq"
      }
    },
    {
      "cell_type": "markdown",
      "source": [
        "You are climbing a staircase. It takes $n$ steps to reach the top.\n",
        "\n",
        "Each time you can either climb 1 or 2 steps. In how many distinct ways can you climb to the top?\n",
        "\n",
        "\n",
        "```\n",
        "Example 1:\n",
        "\n",
        "Input: n = 2\n",
        "Output: 2\n",
        "Explanation: There are two ways to climb to the top.\n",
        "1. 1 step + 1 step\n",
        "2. 2 steps\n",
        "Example 2:\n",
        "\n",
        "Input: n = 3\n",
        "Output: 3\n",
        "Explanation: There are three ways to climb to the top.\n",
        "1. 1 step + 1 step + 1 step\n",
        "2. 1 step + 2 steps\n",
        "3. 2 steps + 1 step\n",
        "```"
      ],
      "metadata": {
        "id": "w-arv5m22OqN"
      }
    },
    {
      "cell_type": "markdown",
      "source": [
        "# solution"
      ],
      "metadata": {
        "id": "D5Ej-YjK2tjR"
      }
    },
    {
      "cell_type": "markdown",
      "source": [
        "## Approach 1: Dynamic programming\n",
        "\n",
        "__base case:__\n",
        "- given zero step, the is one way to stay where we are\n",
        "- given one step, there is one way to reach it\n",
        "\n",
        "__Recursive call__\n",
        "\n",
        "To be on stair i, we either came took 1 step, or two steps: $stair[i] = stair[i-1] + stair[i-2]$\n",
        "\n",
        "So to go to stair 3:\n",
        "- $stair[2] = stair[1] + stair[0] = 1 + 1 = 2$\n",
        "- $stair[3] = stair[1] + stair[2] = 1 + 2 = 3$\n",
        "\n",
        "__Data structure__: array\n",
        "\n",
        "__Running time__: $O(n)$\n",
        "\n",
        "__Space complexity__: $O(n)$\n",
        "\n"
      ],
      "metadata": {
        "id": "PJc4MzSR2vX7"
      }
    },
    {
      "cell_type": "markdown",
      "source": [],
      "metadata": {
        "id": "mCfO_why5BBi"
      }
    },
    {
      "cell_type": "code",
      "execution_count": 2,
      "metadata": {
        "colab": {
          "base_uri": "https://localhost:8080/"
        },
        "id": "h7tG_iAO2EOM",
        "outputId": "e16a0f82-2f96-4c3c-d576-e811b64c40b8"
      },
      "outputs": [
        {
          "output_type": "execute_result",
          "data": {
            "text/plain": [
              "8"
            ]
          },
          "metadata": {},
          "execution_count": 2
        }
      ],
      "source": [
        "def climbStairs(n):\n",
        "  #base case\n",
        "  if n == 0:\n",
        "    return 1\n",
        "  if n == 1:\n",
        "    return 1\n",
        "  # initialize\n",
        "  stair = [0] * (n + 1) # list of size n+1\n",
        "  stair[0] = 1\n",
        "  stair[1] = 1\n",
        "\n",
        "  for i in range(2, n + 1):\n",
        "      stair[i] = stair[i-1] + stair[i-2]\n",
        "\n",
        "  return stair[n]\n",
        "\n",
        "climbStairs(5)"
      ]
    },
    {
      "cell_type": "markdown",
      "source": [
        "## Approach 2 - space efficient\n",
        "\n",
        "Just keep the last two steps. This is similar to the efficient approach for computing the Fibonacci sequence.\n",
        "\n",
        "__Running time__: $O(n)$\n",
        "\n",
        "__Space complexity__: $O(1)$"
      ],
      "metadata": {
        "id": "yGYNx0Fh6Vqh"
      }
    },
    {
      "cell_type": "code",
      "source": [
        "def climbStairs(n):\n",
        "    if n == 0:\n",
        "        return 1\n",
        "    if n == 1:\n",
        "        return 1\n",
        "\n",
        "    a, b = 1, 1\n",
        "    for _ in range(2, n + 1):\n",
        "        a, b = b, a + b\n",
        "\n",
        "    return b\n",
        "\n",
        "climbStairs(5)"
      ],
      "metadata": {
        "colab": {
          "base_uri": "https://localhost:8080/"
        },
        "id": "rAI6clpW6_18",
        "outputId": "bfe59857-f2ef-4925-b81e-700f8e0088df"
      },
      "execution_count": 5,
      "outputs": [
        {
          "output_type": "execute_result",
          "data": {
            "text/plain": [
              "8"
            ]
          },
          "metadata": {},
          "execution_count": 5
        }
      ]
    }
  ]
}