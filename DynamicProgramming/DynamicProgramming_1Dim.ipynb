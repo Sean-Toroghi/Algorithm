{
  "nbformat": 4,
  "nbformat_minor": 0,
  "metadata": {
    "colab": {
      "provenance": [],
      "collapsed_sections": [
        "MncNqQKYw6l_"
      ]
    },
    "kernelspec": {
      "name": "python3",
      "display_name": "Python 3"
    },
    "language_info": {
      "name": "python"
    }
  },
  "cells": [
    {
      "cell_type": "markdown",
      "source": [
        "# Climbing stairs"
      ],
      "metadata": {
        "id": "DNmxBTa1_ZVR"
      }
    },
    {
      "cell_type": "markdown",
      "source": [
        "You are climbing a stair case. It takes $n$ steps to reach the top.\n",
        "\n",
        "Each time you can either climb 1 or 2 steps. In how many distinct ways can you climb to the top?\n",
        "\n",
        "\n",
        "```\n",
        "Example 1:\n",
        "\n",
        "Input: n = 2\n",
        "Output: 2\n",
        "Explanation: There are two ways to climb to the top.\n",
        "1. 1 step + 1 step\n",
        "2. 2 steps\n",
        "Example 2:\n",
        "\n",
        "Input: n = 3\n",
        "Output: 3\n",
        "Explanation: There are three ways to climb to the top.\n",
        "1. 1 step + 1 step + 1 step\n",
        "2. 1 step + 2 steps\n",
        "3. 2 steps + 1 step\n",
        "```"
      ],
      "metadata": {
        "id": "MTl1Vjk-_b3i"
      }
    },
    {
      "cell_type": "markdown",
      "source": [
        "## Approach 1: Dynamic programming\n",
        "\n",
        "__base case:__\n",
        "- given zero step, the is one way to stay where we are\n",
        "- given one step, there is one way to reach it\n",
        "\n",
        "__Recursive call__\n",
        "\n",
        "To be on stair i, we either came took 1 step, or two steps: $stair[i] = stair[i-1] + stair[i-2]$\n",
        "\n",
        "So to go to stair 3:\n",
        "- $stair[2] = stair[1] + stair[0] = 1 + 1 = 2$\n",
        "- $stair[3] = stair[1] + stair[2] = 1 + 2 = 3$\n",
        "\n",
        "__Data structure__: array\n",
        "\n",
        "__Running time__: $O(n)$\n",
        "\n",
        "__Space complexity__: $O(n)$\n",
        "\n"
      ],
      "metadata": {
        "id": "m8taiA1z_fac"
      }
    },
    {
      "cell_type": "code",
      "source": [
        "def climbStairs(n):\n",
        "  #base case\n",
        "  if n == 0:\n",
        "    return 1\n",
        "  if n == 1:\n",
        "    return 1\n",
        "  # initialize\n",
        "  stair = [0] * (n + 1) # list of size n+1\n",
        "  stair[0] = 1\n",
        "  stair[1] = 1\n",
        "\n",
        "  for i in range(2, n + 1):\n",
        "      stair[i] = stair[i-1] + stair[i-2]\n",
        "\n",
        "  return stair[n]\n",
        "\n",
        "climbStairs(5)"
      ],
      "metadata": {
        "colab": {
          "base_uri": "https://localhost:8080/"
        },
        "id": "q4fadM_d_hI1",
        "outputId": "29067995-8754-4c2e-b3af-e8a9fca01dfe"
      },
      "execution_count": 26,
      "outputs": [
        {
          "output_type": "execute_result",
          "data": {
            "text/plain": [
              "8"
            ]
          },
          "metadata": {},
          "execution_count": 26
        }
      ]
    },
    {
      "cell_type": "markdown",
      "source": [
        "## Approach 2 - space efficient\n",
        "\n",
        "Just keep the last two steps. This is similar to the efficient approach for computing the Fibonacci sequence.\n",
        "\n",
        "__Running time__: $O(n)$\n",
        "\n",
        "__Space complexity__: $O(1)$"
      ],
      "metadata": {
        "id": "yoZPSIbT_jQ4"
      }
    },
    {
      "cell_type": "code",
      "source": [
        "def climbStairs(n):\n",
        "    if n == 0:\n",
        "        return 1\n",
        "    if n == 1:\n",
        "        return 1\n",
        "\n",
        "    a, b = 1, 1\n",
        "    for _ in range(2, n + 1):\n",
        "        a, b = b, a + b\n",
        "\n",
        "    return b\n",
        "\n",
        "climbStairs(5)"
      ],
      "metadata": {
        "colab": {
          "base_uri": "https://localhost:8080/"
        },
        "id": "vpPadvhR_k9s",
        "outputId": "f2d1d10a-19fd-4792-d791-cc0a1bbd3e00"
      },
      "execution_count": 25,
      "outputs": [
        {
          "output_type": "execute_result",
          "data": {
            "text/plain": [
              "8"
            ]
          },
          "metadata": {},
          "execution_count": 25
        }
      ]
    },
    {
      "cell_type": "markdown",
      "source": [
        "# House robber - dynamic programming\n",
        "\n"
      ],
      "metadata": {
        "id": "MncNqQKYw6l_"
      }
    },
    {
      "cell_type": "markdown",
      "source": [
        "\n",
        "\n",
        "You are a professional robber planning to rob houses along a street. Each house has a certain amount of money stashed, the only constraint stopping you from robbing each of them is that adjacent houses have security systems connected and it will automatically contact the police if two adjacent houses were broken into on the same night.\n",
        "\n",
        "Given an integer array nums representing the amount of money of each house, return the maximum amount of money you can rob tonight without alerting the police.\n",
        "\n",
        "```\n",
        "\n",
        "Example 1:\n",
        "\n",
        "Input: nums = [1,2,3,1]\n",
        "Output: 4\n",
        "Explanation: Rob house 1 (money = 1) and then rob house 3 (money = 3).\n",
        "Total amount you can rob = 1 + 3 = 4.\n",
        "Example 2:\n",
        "\n",
        "Input: nums = [2,7,9,3,1]\n",
        "Output: 12\n",
        "Explanation: Rob house 1 (money = 2), rob house 3 (money = 9) and rob house 5 (money = 1).\n",
        "Total amount you can rob = 2 + 9 + 1 = 12.\n",
        "\n",
        "```"
      ],
      "metadata": {
        "id": "ozFd6VtQxBSt"
      }
    },
    {
      "cell_type": "markdown",
      "source": [
        "## Solution - dynamic programming\n",
        "\n",
        "\n",
        "__Base case:__\n",
        "- len(array) = 0 -> 0\n",
        "- len(array) = 1 -> array[0]\n",
        "\n",
        "__Recursive call:__\n",
        "\n",
        "- For each element of the array the Elementsum(i) represents the max sum of all elements in the array from the first element to element i, with the condition that non of the elements are adjacent.\n",
        "\n",
        "- There are two options:\n",
        "  1. the element i is in the list. In this case the max sum = Elementsum(i-2) + array[i]\n",
        "  2. the element i is not in the list. In this case the max sum = Elementsum(i-1)\n",
        "\n",
        "The answer is the max of the above two options: Elementsum(i) = Max{Elementsum(i-1), array[i]+ Elementsum(i-2)}.\n",
        "\n",
        "__data structure__: scalar\n",
        "\n",
        "__Time complexity__: $O(n)$\n",
        "\n",
        "__Space complexity__: $O(1)$"
      ],
      "metadata": {
        "id": "aNXDZtQaxIt1"
      }
    },
    {
      "cell_type": "code",
      "source": [
        "def maxNonAdjacentSum(arr):\n",
        "    \"\"\"\n",
        "    :type input: List[int]\n",
        "    :rtype: int\n",
        "    \"\"\"\n",
        "\n",
        "    if len(arr) == 0:\n",
        "        return 0\n",
        "    elif len(arr) == 1:\n",
        "        return arr[0]\n",
        "    else:\n",
        "      prev2 = 0\n",
        "      prev1 = arr[0]\n",
        "\n",
        "      for i in range(1, len(arr)):\n",
        "        current = max(prev1, arr[i] + prev2)\n",
        "        prev2= prev1\n",
        "        prev1 = current\n",
        "      return prev1"
      ],
      "metadata": {
        "id": "9ONwubUWye0c"
      },
      "execution_count": 21,
      "outputs": []
    },
    {
      "cell_type": "code",
      "execution_count": 22,
      "metadata": {
        "colab": {
          "base_uri": "https://localhost:8080/"
        },
        "id": "c1Ua-hMDw1-2",
        "outputId": "4a312536-aadc-4281-8869-bbd606a1c766"
      },
      "outputs": [
        {
          "output_type": "execute_result",
          "data": {
            "text/plain": [
              "4"
            ]
          },
          "metadata": {},
          "execution_count": 22
        }
      ],
      "source": [
        "maxNonAdjacentSum([2,1,1,2])"
      ]
    },
    {
      "cell_type": "markdown",
      "source": [
        "# Word break"
      ],
      "metadata": {
        "id": "zRmTOLgI3bf7"
      }
    },
    {
      "cell_type": "markdown",
      "source": [
        "\n",
        "Given a string s and a dictionary of strings wordDict, return true if s can be segmented into a space-separated sequence of one or more dictionary words.\n",
        "\n",
        "Note that the same word in the dictionary may be reused multiple times in the segmentation.\n",
        "\n",
        "\n",
        "```\n",
        "Example 1:\n",
        "\n",
        "Input: s = \"leetcode\", wordDict = [\"leet\",\"code\"]\n",
        "Output: true\n",
        "Explanation: Return true because \"leetcode\" can be segmented as \"leet code\".\n",
        "Example 2:\n",
        "\n",
        "Input: s = \"applepenapple\", wordDict = [\"apple\",\"pen\"]\n",
        "Output: true\n",
        "Explanation: Return true because \"applepenapple\" can be segmented as \"apple pen apple\".\n",
        "Note that you are allowed to reuse a dictionary word.\n",
        "Example 3:\n",
        "\n",
        "Input: s = \"catsandog\", wordDict = [\"cats\",\"dog\",\"sand\",\"and\",\"cat\"]\n",
        "Output: false\n",
        "```"
      ],
      "metadata": {
        "id": "sQVBeu4C3pVr"
      }
    },
    {
      "cell_type": "markdown",
      "source": [
        "## Solution"
      ],
      "metadata": {
        "id": "8ZFCNEKy4cHX"
      }
    },
    {
      "cell_type": "markdown",
      "source": [
        "Inputs:\n",
        "- string s\n",
        "- list of words: wordDict\n",
        "\n",
        "__Base case__\n",
        "- len(s) = o -> True\n",
        "\n",
        "__Recursive function__\n",
        "- Check(i) for each position in string s, checks if there is a position j before the i such that:\n",
        "  - `Check(j)` returns `True`\n",
        "  - `s[j:i] isin(wordDict)`\n",
        "\n",
        "- Recursively checking all characters in s\n",
        "\n",
        "__Data structure__: array\n",
        "\n",
        "__Time complexity__: $O(n^2)$ (for each position in s, we check all the substrings from position 0 to i in s)\n",
        "\n",
        "__Space complexity__: $O(n)$\n"
      ],
      "metadata": {
        "id": "A-l1jpAY4det"
      }
    },
    {
      "cell_type": "code",
      "source": [
        "def WordBreak(s, wordDict):\n",
        "  '''\n",
        "  Inputs:\n",
        "    s: string\n",
        "    wordDict: a list ofwords\n",
        "  Output:\n",
        "    True: if s can be segmented into one or more words in the wordDict list\n",
        "    False: otherwise\n",
        "  '''\n",
        "  # convert list to set, to have O(1) lookup time\n",
        "  word_set = set(wordDict)\n",
        "  n = len(s)\n",
        "\n",
        "  # Create data structure\n",
        "  Check = [False]*(n+1)\n",
        "  # base case\n",
        "  Check[0] = True\n",
        "\n",
        "  for i in range(1, n+1):\n",
        "    for j in range(i):\n",
        "      if Check[j] and (s[j:i] in word_set):\n",
        "        Check[i] = True\n",
        "        break\n",
        "  return Check[n]\n",
        "\n",
        "WordBreak(\"catsandog\", [\"cats\",\"dog\",\"sand\",\"and\",\"cat\"])\n",
        "\n",
        ""
      ],
      "metadata": {
        "colab": {
          "base_uri": "https://localhost:8080/"
        },
        "id": "BIoUW9X23ly0",
        "outputId": "8d86d2ab-0b66-46da-c3ce-edd4521928c7"
      },
      "execution_count": 23,
      "outputs": [
        {
          "output_type": "execute_result",
          "data": {
            "text/plain": [
              "False"
            ]
          },
          "metadata": {},
          "execution_count": 23
        }
      ]
    },
    {
      "cell_type": "markdown",
      "source": [
        "## Approach 2 - more efficient by employ Trie data structure and DFS with memoization\n",
        "Steps:\n",
        "1. Construct a Trie: Build a Trie from the given dictionary words. This allows efficient prefix matching.\n",
        "2. Use Depth-First Search (DFS) with Memoization: Implement a DFS approach to explore all possible segmentations of the string, while using memoization to store results of previously computed states to avoid redundant calculations.\n",
        "\n",
        "\n",
        "A \"trie\" (pronounced \"try\") is a tree-like data structure used to efficiently store and retrieve strings, where each node represents a single character of a string, allowing for quick lookups of words or prefixes by traversing the tree based on the characters in the string; essentially, it is a specialized search tree where nodes share common prefixes, making it ideal for operations like autocomplete or finding words starting with a specific pattern.\n",
        "\n",
        "[Reference: Trie](https://www.geeksforgeeks.org/trie-insert-and-search/)"
      ],
      "metadata": {
        "id": "o2CATbUE-g1D"
      }
    },
    {
      "cell_type": "code",
      "source": [
        "class TrieNode:\n",
        "    def __init__(self):\n",
        "        self.children = {}\n",
        "        self.is_word = False\n",
        "\n",
        "class Trie:\n",
        "    def __init__(self):\n",
        "        self.root = TrieNode()\n",
        "\n",
        "    def insert(self, word):\n",
        "        node = self.root\n",
        "        for char in word:\n",
        "            if char not in node.children:\n",
        "                node.children[char] = TrieNode()\n",
        "            node = node.children[char]\n",
        "        node.is_word = True\n",
        "\n",
        "    def search(self, node, s, index, memo):\n",
        "        if index == len(s):\n",
        "            return True\n",
        "        if index in memo:\n",
        "            return memo[index]\n",
        "\n",
        "        current_node = node\n",
        "        for i in range(index, len(s)):\n",
        "            char = s[i]\n",
        "            if char not in current_node.children:\n",
        "                break\n",
        "            current_node = current_node.children[char]\n",
        "            if current_node.is_word and self.search(self.root, s, i + 1, memo):\n",
        "                memo[index] = True\n",
        "                return True\n",
        "\n",
        "        memo[index] = False\n",
        "        return False\n",
        "def wordBreak(s, wordDict):\n",
        "    # Build the Trie from the dictionary\n",
        "    trie = Trie()\n",
        "    for word in wordDict:\n",
        "        trie.insert(word)\n",
        "\n",
        "    memo = {}\n",
        "    return trie.search(trie.root, s, 0, memo)\n",
        "WordBreak(\"catsandog\", [\"cats\",\"dog\",\"sand\",\"and\",\"cat\"])\n"
      ],
      "metadata": {
        "colab": {
          "base_uri": "https://localhost:8080/"
        },
        "id": "esl1YN_K-213",
        "outputId": "35530ee3-400a-475d-9016-959cc882bdbe"
      },
      "execution_count": 24,
      "outputs": [
        {
          "output_type": "execute_result",
          "data": {
            "text/plain": [
              "False"
            ]
          },
          "metadata": {},
          "execution_count": 24
        }
      ]
    },
    {
      "cell_type": "markdown",
      "source": [
        "# Coin change"
      ],
      "metadata": {
        "id": "NXZjs9qwvE7q"
      }
    },
    {
      "cell_type": "markdown",
      "source": [
        "You are given an integer array coins representing coins of different denominations and an integer amount representing a total amount of money.\n",
        "\n",
        "Return the fewest number of coins that you need to make up that amount. If that amount of money cannot be made up by any combination of the coins, return -1.\n",
        "\n",
        "You may assume that you have an infinite number of each kind of coin.\n",
        "\n",
        "\n",
        "```\n",
        "Example 1:\n",
        "\n",
        "Input: coins = [1,2,5], amount = 11\n",
        "Output: 3\n",
        "Explanation: 11 = 5 + 5 + 1\n",
        "Example 2:\n",
        "\n",
        "Input: coins = [2], amount = 3\n",
        "Output: -1\n",
        "Example 3:\n",
        "\n",
        "Input: coins = [1], amount = 0\n",
        "Output: 0\n",
        "```"
      ],
      "metadata": {
        "id": "2RCT0lwBvG3Q"
      }
    },
    {
      "cell_type": "markdown",
      "source": [
        "## Approach 1 - dynamic programing\n",
        "\n",
        "__Base case__\n",
        "- Change(0) = 0\n",
        "\n",
        "\n",
        "__Recursive function__\n",
        "- the Change(i) returns minimum number of coins needed to change amount (i)\n",
        "- at each iteration, there are two options:\n",
        "  1. a coint can be used, the output will be Change(i-amount of coin) + 1\n",
        "  2. no coint can be used, which returns the exiting value of Chaing(i)\n",
        "\n",
        "\n",
        "__Time complexity__: $O(m+n)$\n",
        "\n",
        "__Space complexity__: array data structure - $O(n)$\n"
      ],
      "metadata": {
        "id": "DiFOMRqevcXZ"
      }
    },
    {
      "cell_type": "code",
      "source": [
        "def coinChange(coins: list, amount: int):\n",
        "    # Initialize dp array with a large value\n",
        "    dp = [float('inf')] * (amount + 1) # one extra for base case\n",
        "    dp[0] = 0  # Base case\n",
        "\n",
        "    # Process each amount from 1 to amount\n",
        "    for i in range(1, amount + 1):\n",
        "        for coin in coins:\n",
        "            if i >= coin:\n",
        "                dp[i] = min(dp[i], dp[i - coin] + 1)\n",
        "\n",
        "    # If dp[amount] is still float('inf'), it means we cannot form the amount\n",
        "    return dp[amount] if dp[amount] != float('inf') else -1"
      ],
      "metadata": {
        "id": "BwiuYpC-xKck"
      },
      "execution_count": 5,
      "outputs": []
    },
    {
      "cell_type": "code",
      "source": [
        "coins = [2]; amount = 3\n",
        "\n",
        "coinChange(coins, amount)"
      ],
      "metadata": {
        "colab": {
          "base_uri": "https://localhost:8080/"
        },
        "id": "JP_Kw38gxYuH",
        "outputId": "17612ef8-f4f5-47ae-a3b0-d0675b0f4be3"
      },
      "execution_count": 3,
      "outputs": [
        {
          "output_type": "execute_result",
          "data": {
            "text/plain": [
              "-1"
            ]
          },
          "metadata": {},
          "execution_count": 3
        }
      ]
    },
    {
      "cell_type": "code",
      "source": [
        "coins = [1,2,5]; amount = 11\n",
        "\n",
        "coinChange(coins, amount)"
      ],
      "metadata": {
        "colab": {
          "base_uri": "https://localhost:8080/"
        },
        "id": "7xpm8LO_xhla",
        "outputId": "460b2df6-a1a2-44ce-8a84-5eae5a9b988e"
      },
      "execution_count": 6,
      "outputs": [
        {
          "output_type": "execute_result",
          "data": {
            "text/plain": [
              "3"
            ]
          },
          "metadata": {},
          "execution_count": 6
        }
      ]
    },
    {
      "cell_type": "markdown",
      "source": [
        "## Approach 2 - BFS\n",
        "\n",
        "Faster than dynamic progreamming in case we have small number of coins:It explores all possible combinations of coins using a queue.\n"
      ],
      "metadata": {
        "id": "rjPXDCzdx0OH"
      }
    },
    {
      "cell_type": "code",
      "source": [
        "from collections import deque\n",
        "\n",
        "def coinChangeBFS(coins, amount):\n",
        "    if amount == 0:\n",
        "        return 0\n",
        "\n",
        "    queue = deque([(0, 0)])  # (current_amount, number_of_coins)\n",
        "    visited = set()  # To avoid re-processing the same amount\n",
        "\n",
        "    while queue:\n",
        "        current_amount, num_coins = queue.popleft()\n",
        "\n",
        "        for coin in coins:\n",
        "            next_amount = current_amount + coin\n",
        "            if next_amount == amount:\n",
        "                return num_coins + 1\n",
        "            if next_amount < amount and next_amount not in visited:\n",
        "                visited.add(next_amount)\n",
        "                queue.append((next_amount, num_coins + 1))\n",
        "\n",
        "    return -1"
      ],
      "metadata": {
        "id": "81ieG7RcyTRe"
      },
      "execution_count": 7,
      "outputs": []
    },
    {
      "cell_type": "code",
      "source": [
        "coins = [1,2,5]; amount = 11\n",
        "\n",
        "coinChangeBFS(coins, amount)"
      ],
      "metadata": {
        "colab": {
          "base_uri": "https://localhost:8080/"
        },
        "id": "TrOpNOq6yT_6",
        "outputId": "fcf57020-0a5a-4a10-8d15-42e1fd963d7a"
      },
      "execution_count": 8,
      "outputs": [
        {
          "output_type": "execute_result",
          "data": {
            "text/plain": [
              "3"
            ]
          },
          "metadata": {},
          "execution_count": 8
        }
      ]
    },
    {
      "cell_type": "markdown",
      "source": [
        "# Longest Increasing Subsequence (LIS)"
      ],
      "metadata": {
        "id": "a27u58XBy5xM"
      }
    },
    {
      "cell_type": "markdown",
      "source": [
        "Given an integer array nums, return the length of the longest strictly increasing subsequence (A subsequence is an array that can be derived from another array by deleting some or no elements without changing the order of the remaining elements.).\n",
        "\n",
        "```\n",
        "Example 1:\n",
        "\n",
        "Input: nums = [10,9,2,5,3,7,101,18]\n",
        "Output: 4\n",
        "Explanation: The longest increasing subsequence is [2,3,7,101], therefore the length is 4.\n",
        "Example 2:\n",
        "\n",
        "Input: nums = [0,1,0,3,2,3]\n",
        "Output: 4\n",
        "Example 3:\n",
        "\n",
        "Input: nums = [7,7,7,7,7,7,7]\n",
        "Output: 1\n",
        " ```\n"
      ],
      "metadata": {
        "id": "FAL6C989y8Uk"
      }
    },
    {
      "cell_type": "markdown",
      "source": [
        "## Approach - a well known dynamic programming\n",
        "\n",
        "__Base case__\n",
        "- LIS(0) = 0\n",
        "- LIS(1) = 1\n",
        "\n",
        "__Recursive function__\n",
        "- LIS(i) returns the longest increasing subsequence ending in ith position in the sequence.\n",
        "- at each iteration we have two options, given i<j<k (string length k):\n",
        "  1. either the jth value in the sequence belongs to LIS: LIS(j) + 1\n",
        "  2. the jth value does not belong to LIS and we check the next value in the sequence: LIS(i)\n",
        "\n",
        "  LIS(i) = max(LIST(i), LIS(j) + 1)\n",
        "\n",
        "\n",
        "__Time complexity__: $O(n^2)$\n",
        "\n",
        "__space complexity__: 1D array $O(n)$"
      ],
      "metadata": {
        "id": "HavlaKiQzI9q"
      }
    },
    {
      "cell_type": "code",
      "source": [
        "def lengthOfLIS(nums):\n",
        "    if not nums:\n",
        "        return 0\n",
        "\n",
        "    n = len(nums)\n",
        "    LIS = [1] * n  # Initialize dp array with 1s\n",
        "\n",
        "    for i in range(1, n):\n",
        "        for j in range(i):\n",
        "            if nums[j] < nums[i]:\n",
        "                LIS[i] = max(LIS[i], LIS[j] + 1)\n",
        "\n",
        "    return max(LIS)  # The length of the longest increasing subsequence\n",
        "\n",
        "# Example usage:\n",
        "nums = [10, 9, 2, 5, 3, 7, 101, 18]\n",
        "print(lengthOfLIS(nums))  # Output: 4"
      ],
      "metadata": {
        "colab": {
          "base_uri": "https://localhost:8080/"
        },
        "id": "z6bSACMv1Exv",
        "outputId": "a0596cf6-ef4e-4c89-d415-24e787fec4a1"
      },
      "execution_count": 10,
      "outputs": [
        {
          "output_type": "stream",
          "name": "stdout",
          "text": [
            "4\n"
          ]
        }
      ]
    },
    {
      "cell_type": "markdown",
      "source": [
        "## Approach 2 - Employ binary search (Time complexity $O(n\\log n$))\n",
        "\n",
        "\n",
        "In this approach, a binary search tree search for the smallest value of the remaining elements in the sequence. So instead of checking all of the remaining values in $O(n)$ time, we can reduce the time to $O(\\log n$). We have $n$ items in the string that we need to iterate through. So the total running time is $O(n\\log n$).\n",
        "\n",
        "Space complexity is the same.\n",
        "\n",
        "Steps:\n",
        "\n",
        "1. Iterate through each number in the array.\n",
        "2. Use binary search to find the position in the tails list where the current number can either replace an existing value or extend the list.\n",
        "3. Update the tails list accordingly."
      ],
      "metadata": {
        "id": "l6EOolk01TFs"
      }
    },
    {
      "cell_type": "code",
      "source": [
        "import bisect\n",
        "\n",
        "def lengthOfLIS(nums):\n",
        "    if not nums:\n",
        "        return 0\n",
        "\n",
        "    tails = []  # This will hold the smallest end value of all increasing subsequences of length i+1\n",
        "\n",
        "    for num in nums:\n",
        "        # Use binary search to find the insertion point for num in tails\n",
        "        idx = bisect.bisect_left(tails, num)\n",
        "\n",
        "        # If idx is equal to the length of tails, num is greater than any element in tails\n",
        "        if idx == len(tails):\n",
        "            tails.append(num)\n",
        "        else:\n",
        "            tails[idx] = num  # Update the element at idx to be the smaller number\n",
        "\n",
        "    return len(tails)  # The length of tails is the length of the longest increasing subsequence\n",
        "\n",
        "# Example usage:\n",
        "nums = [10, 9, 2, 5, 3, 7, 101, 18]\n",
        "print(lengthOfLIS(nums))  # Output: 4"
      ],
      "metadata": {
        "colab": {
          "base_uri": "https://localhost:8080/"
        },
        "id": "5E75bJg51Sui",
        "outputId": "b4bb963f-1fed-42aa-90b4-aa5429b7f316"
      },
      "execution_count": 11,
      "outputs": [
        {
          "output_type": "stream",
          "name": "stdout",
          "text": [
            "4\n"
          ]
        }
      ]
    }
  ]
}