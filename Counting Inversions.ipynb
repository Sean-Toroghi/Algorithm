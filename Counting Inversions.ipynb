{
 "cells": [
  {
   "cell_type": "markdown",
   "metadata": {},
   "source": [
    "#### Counting Inversions\n",
    "\n",
    "Input: an array of unsorted numbers\n",
    "\n",
    "Output: pairs of array entries, where for i<j, A[i] > A[j]\n",
    "\n",
    "Steps:\n",
    "   1. divide \n",
    "   2. sort and merge recursively, and count inversion pairs as merging\n",
    "   \n",
    "Complexity: O(N Log N)\n",
    "    \n",
    "Implementation: A recursive method similar to MergeSort, but which I implemented via Python v.3."
   ]
  },
  {
   "cell_type": "code",
   "execution_count": 39,
   "metadata": {},
   "outputs": [
    {
     "name": "stdout",
     "output_type": "stream",
     "text": [
      "insert size of the array: 200\n",
      "\n",
      " Generated array is:  \n",
      " [69, 6, 48, 24, 99, 1, 5, 19, 80, 10, 11, 13, 4, 3, 10, 69, 96, 72, 63, 3, 36, 33, 63, 20, 90, 38, 4, 10, 68, 64, 72, 97, 72, 14, 94, 0, 66, 77, 16, 14, 64, 61, 30, 5, 9, 72, 7, 25, 16, 11, 73, 1, 75, 71, 90, 98, 30, 97, 61, 98, 38, 60, 59, 41, 78, 38, 62, 50, 92, 93, 20, 66, 3, 18, 8, 100, 58, 23, 27, 93, 8, 5, 81, 64, 84, 18, 69, 55, 92, 39, 12, 36, 67, 14, 79, 26, 86, 65, 7, 87, 41, 78, 16, 84, 58, 35, 36, 31, 10, 25, 69, 33, 8, 56, 5, 12, 26, 42, 92, 84, 15, 7, 16, 8, 75, 59, 61, 78, 50, 37, 56, 63, 54, 8, 90, 80, 21, 57, 3, 29, 83, 92, 14, 6, 13, 22, 54, 14, 52, 96, 49, 13, 27, 19, 99, 5, 98, 78, 65, 78, 34, 64, 35, 33, 35, 12, 90, 41, 18, 58, 16, 36, 55, 6, 55, 67, 46, 83, 98, 5, 13, 85, 71, 11, 3, 67, 55, 83, 91, 45, 12, 78, 70, 19, 75, 61, 75, 80, 79, 63, 93] \n",
      "\n",
      "Sorted array is:  \n",
      " [0, 1, 1, 3, 3, 3, 3, 3, 4, 4, 5, 5, 5, 5, 5, 5, 6, 6, 6, 7, 7, 7, 8, 8, 8, 8, 8, 9, 10, 10, 10, 10, 11, 11, 11, 12, 12, 12, 12, 13, 13, 13, 13, 14, 14, 14, 14, 14, 15, 16, 16, 16, 16, 16, 18, 18, 18, 19, 19, 19, 20, 20, 21, 22, 23, 24, 25, 25, 26, 26, 27, 27, 29, 30, 30, 31, 33, 33, 33, 34, 35, 35, 35, 36, 36, 36, 36, 37, 38, 38, 38, 39, 41, 41, 41, 42, 45, 46, 48, 49, 50, 50, 52, 54, 54, 55, 55, 55, 55, 56, 56, 57, 58, 58, 58, 59, 59, 60, 61, 61, 61, 61, 62, 63, 63, 63, 63, 64, 64, 64, 64, 65, 65, 66, 66, 67, 67, 67, 68, 69, 69, 69, 69, 70, 71, 71, 72, 72, 72, 72, 73, 75, 75, 75, 75, 77, 78, 78, 78, 78, 78, 78, 79, 79, 80, 80, 80, 81, 83, 83, 83, 84, 84, 84, 85, 86, 87, 90, 90, 90, 90, 91, 92, 92, 92, 92, 93, 93, 93, 94, 96, 96, 97, 97, 98, 98, 98, 98, 99, 99, 100]\n",
      "Number of inversions in the unsorted array are: 5009\n",
      "time to compile=  1.036893367767334\n"
     ]
    }
   ],
   "source": [
    "import random\n",
    "import time\n",
    "\n",
    "#generate a list of integer with random numbers\n",
    "def generate_list():\n",
    "    size_ = int(input(\"insert size of the array: \"))\n",
    "    list_1 = [random.randrange(0, 101, 1) for _ in range(size_ + 1)]\n",
    "    print(\"\\n\",\"Generated array is: \", \"\\n\", list_1, \"\\n\")\n",
    "    return list_1\n",
    "#recursive divide\n",
    "def mergesort(list_):\n",
    "    if len(list_) == 1: \n",
    "        return list_ \n",
    "    else:\n",
    "        m = len(list_) // 2\n",
    "        left_ = list_[:m]\n",
    "        right_= list_[m:]\n",
    "        return merge(mergesort(left_), mergesort(right_)) \n",
    "#sort and count inversion as merging using an auxilary array\n",
    "def merge(left, right):\n",
    "    sorted_ = [] \n",
    "    global count \n",
    "    count = 0    \n",
    "    i = j = 0\n",
    "    while i < len(left) and j < len(right): \n",
    "        if left[i] < right[j]: \n",
    "            sorted_.append(left[i])\n",
    "            i += 1 \n",
    "        else: \n",
    "            sorted_.append(right[j])\n",
    "            count = count + (len(left) - i)\n",
    "            j += 1\n",
    "    sorted_.extend(left[i:]) \n",
    "    sorted_.extend(right[j:]) \n",
    "    return sorted_ \n",
    "\n",
    "if __name__ == '__main__':\n",
    "    start = time.time()\n",
    "    sorted_ = merge_sort(generate_list())\n",
    "    end = time.time ()\n",
    "    print (\"Sorted array is: \", \"\\n\",sorted_)\n",
    "    print (\"Number of inversions in the unsorted array are:\", count)\n",
    "    print (\"time to compile= \", end- start)\n"
   ]
  }
 ],
 "metadata": {
  "kernelspec": {
   "display_name": "Python 3",
   "language": "python",
   "name": "python3"
  },
  "language_info": {
   "codemirror_mode": {
    "name": "ipython",
    "version": 3
   },
   "file_extension": ".py",
   "mimetype": "text/x-python",
   "name": "python",
   "nbconvert_exporter": "python",
   "pygments_lexer": "ipython3",
   "version": "3.7.3"
  }
 },
 "nbformat": 4,
 "nbformat_minor": 2
}
