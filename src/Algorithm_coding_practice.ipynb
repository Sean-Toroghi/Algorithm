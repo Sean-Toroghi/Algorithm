{
  "nbformat": 4,
  "nbformat_minor": 0,
  "metadata": {
    "colab": {
      "provenance": [],
      "authorship_tag": "ABX9TyO1UjBGzaLwJLowzhRUVCai"
    },
    "kernelspec": {
      "name": "python3",
      "display_name": "Python 3"
    },
    "language_info": {
      "name": "python"
    }
  },
  "cells": [
    {
      "cell_type": "markdown",
      "source": [
        "# Problem - Given a triangle array, return the minimum path sum from top to bottom.\n",
        "\n",
        "For each step, you may move to an adjacent number of the row below. More formally, if you are on index `i` on the current row, you may move to either index i or index `i + 1` on the next row.\n",
        "\n",
        "\n",
        "\n",
        "**Example 1:**\n",
        "\n",
        "```python\n",
        "Input: triangle = [[2],[3,4],[6,5,7],[4,1,8,3]]\n",
        "Output: 11\n",
        "Explanation: The triangle looks like:\n",
        "   2\n",
        "  3 4\n",
        " 6 5 7\n",
        "4 1 8 3\n",
        "\n",
        "The minimum path sum from top to bottom is 2 + 3 + 5 + 1 = 11 (underlined above).\n",
        "```\n",
        "\n",
        "**Example 2**:\n",
        "```\n",
        "Input: triangle = [[-10]]\n",
        "Output: -10\n",
        "```\n",
        "\n",
        "**Constraints**:\n",
        "\n",
        "- 1 <= triangle.length <= 200\n",
        "- triangle[0].length == 1\n",
        "- triangle[i].length == triangle[i - 1].length + 1\n",
        "- -104 <= triangle[i][j] <= 104\n",
        "\n",
        "\n",
        "\n",
        "\n",
        "Follow up: Could you do this using only O(n) extra space, where n is the total number of rows in the triangle?"
      ],
      "metadata": {
        "id": "1bQGPwjaoAUR"
      }
    },
    {
      "cell_type": "code",
      "source": [
        "def minPathSum(triangle):\n",
        "    \"\"\"\n",
        "    :type triangle: List[List[int]]\n",
        "    :rtype: int\n",
        "    \"\"\"\n",
        "    for i in range(1, len(triangle)):\n",
        "        for j in range(len(triangle[i])):\n",
        "          # base cases\n",
        "          if j == 0:\n",
        "            triangle[i][j] += triangle[i-1][j]\n",
        "            continue\n",
        "          if j == len(triangle[i]) - 1:\n",
        "            triangle[i][j] += triangle[i-1][j-1]\n",
        "            continue\n",
        "\n",
        "          triangle[i][j] += min(triangle[i-1][j-1], triangle[i-1][j])\n",
        "    return min(triangle[-1])\n",
        "\n",
        "\n",
        "def printTriangle(t):\n",
        "  L = len(t)-1\n",
        "  if L == 1:\n",
        "    return t\n",
        "  else:\n",
        "    for i in range(L, -1, -1):\n",
        "      print(\" \"*i, end=\"\")\n",
        "      print(t[L-i])"
      ],
      "metadata": {
        "id": "CTSe4iQZu4Cf"
      },
      "execution_count": 60,
      "outputs": []
    },
    {
      "cell_type": "code",
      "execution_count": 75,
      "metadata": {
        "colab": {
          "base_uri": "https://localhost:8080/"
        },
        "id": "YsY7YXNdnlZq",
        "outputId": "14737083-90ef-4f4e-9ec1-8bae0007e54b"
      },
      "outputs": [
        {
          "output_type": "stream",
          "name": "stdout",
          "text": [
            "Triangle:\n",
            "   [2]\n",
            "  [3, 4]\n",
            " [6, 5, 7]\n",
            "[4, 1, 8, 3]\n",
            "Min Path Sum: 11\n",
            "\n",
            "Triangle:\n",
            "[-10]\n",
            "Min Path Sum: -10\n",
            "\n",
            "Triangle:\n",
            "   [1]\n",
            "  [2, 3]\n",
            " [4, 5, 6]\n",
            "[7, 8, 9, 10]\n",
            "Min Path Sum: 14\n",
            "\n",
            "Triangle:\n",
            "    [1]\n",
            "   [2, 3]\n",
            "  [4, 5, 6]\n",
            " [7, 8, 9, 10]\n",
            "[11, 12, 13, 14, 15]\n",
            "Min Path Sum: 25\n",
            "\n",
            "Triangle:\n",
            "     [1]\n",
            "    [2, 3]\n",
            "   [4, 5, 6]\n",
            "  [7, 8, 9, 10]\n",
            " [11, 12, 13, 14, 15]\n",
            "[16, 17, 18, 19, 20, 21]\n",
            "Min Path Sum: 41\n",
            "\n"
          ]
        }
      ],
      "source": [
        "triangle1 = [[2],[3,4],[6,5,7],[4,1,8,3]]\n",
        "triangle2 = [[-10]]\n",
        "triangle3 = [[1],[2,3],[4,5,6],[7,8,9,10]]\n",
        "triangle4 = [[1],[2,3],[4,5,6],[7,8,9,10],[11,12,13,14,15]]\n",
        "triangle5 = [[1],[2,3],[4,5,6],[7,8,9,10],[11,12,13,14,15],[16,17,18,19,20,21]]\n",
        "for t in [triangle1, triangle2, triangle3, triangle4, triangle5]:\n",
        "    print(f\"Triangle:\")\n",
        "    printTriangle(t)\n",
        "    print(f\"Min Path Sum: {minPathSum(t)}\\n\")\n",
        "\n"
      ]
    }
  ]
}
