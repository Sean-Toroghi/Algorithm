{
 "cells": [
  {
   "cell_type": "markdown",
   "metadata": {},
   "source": [
    "#### MergeSort (Divide & Conquer)\n",
    "\n",
    "Input: an array of unsorted numbers\n",
    "\n",
    "Output: sorted array (increasing)\n",
    "\n",
    "Steps:\n",
    " 1. divide the array into two sub-arrays\n",
    " 2. sort each sub-array recursevly\n",
    " 3. merge them back\n",
    "    \n",
    "Run time: 6 __NLogN__   + <del>6N"
   ]
  },
  {
   "cell_type": "code",
   "execution_count": 68,
   "metadata": {},
   "outputs": [
    {
     "name": "stdout",
     "output_type": "stream",
     "text": [
      "insert size of the array: 200\n",
      "\n",
      " Generated array is:  \n",
      " [17, 19, 78, 59, 44, 19, 91, 49, 85, 61, 84, 23, 32, 32, 3, 17, 96, 99, 67, 9, 57, 41, 13, 9, 49, 35, 67, 100, 26, 96, 13, 71, 83, 26, 22, 9, 44, 24, 49, 87, 53, 61, 2, 3, 79, 89, 24, 77, 79, 33, 32, 41, 96, 25, 11, 94, 61, 77, 95, 15, 47, 26, 65, 95, 19, 74, 100, 54, 36, 35, 26, 98, 75, 47, 69, 80, 55, 83, 12, 92, 18, 37, 44, 91, 87, 75, 76, 49, 74, 58, 59, 27, 33, 39, 89, 61, 38, 4, 73, 68, 43, 59, 86, 49, 93, 41, 31, 28, 88, 53, 95, 62, 96, 2, 49, 7, 19, 11, 46, 71, 68, 62, 86, 84, 61, 40, 2, 78, 60, 20, 79, 28, 58, 23, 58, 1, 65, 97, 75, 47, 43, 20, 55, 29, 51, 80, 31, 78, 14, 20, 43, 81, 26, 83, 28, 62, 72, 89, 65, 25, 80, 90, 19, 62, 95, 56, 95, 91, 88, 79, 14, 91, 8, 55, 27, 62, 91, 78, 71, 17, 57, 81, 23, 86, 67, 96, 4, 84, 79, 56, 6, 44, 44, 55, 91, 68, 59, 6, 94, 17, 46] \n",
      "\n",
      "Sorted array is:  \n",
      " [1, 2, 2, 2, 3, 3, 4, 4, 6, 6, 7, 8, 9, 9, 9, 11, 11, 12, 13, 13, 14, 14, 15, 17, 17, 17, 17, 18, 19, 19, 19, 19, 19, 20, 20, 20, 22, 23, 23, 23, 24, 24, 25, 25, 26, 26, 26, 26, 26, 27, 27, 28, 28, 28, 29, 31, 31, 32, 32, 32, 33, 33, 35, 35, 36, 37, 38, 39, 40, 41, 41, 41, 43, 43, 43, 44, 44, 44, 44, 44, 46, 46, 47, 47, 47, 49, 49, 49, 49, 49, 49, 51, 53, 53, 54, 55, 55, 55, 55, 56, 56, 57, 57, 58, 58, 58, 59, 59, 59, 59, 60, 61, 61, 61, 61, 61, 62, 62, 62, 62, 62, 65, 65, 65, 67, 67, 67, 68, 68, 68, 69, 71, 71, 71, 72, 73, 74, 74, 75, 75, 75, 76, 77, 77, 78, 78, 78, 78, 79, 79, 79, 79, 79, 80, 80, 80, 81, 81, 83, 83, 83, 84, 84, 84, 85, 86, 86, 86, 87, 87, 88, 88, 89, 89, 89, 90, 91, 91, 91, 91, 91, 91, 92, 93, 94, 94, 95, 95, 95, 95, 95, 96, 96, 96, 96, 96, 97, 98, 99, 100, 100]\n",
      "time took to run the mergesort is:  1.4646224975585938\n"
     ]
    }
   ],
   "source": [
    "import random\n",
    "import time\n",
    "\n",
    "#generate a list of integer with random numbers\n",
    "def generate_list_1():\n",
    "    size_ = int(input(\"insert size of the array: \"))\n",
    "    list_1 = [random.randrange(0, 101, 1) for _ in range(size_ + 1)]\n",
    "    print(\"\\n\",\"Generated array is: \", \"\\n\", list_1, \"\\n\")\n",
    "    return list_1\n",
    "\n",
    "#sorting via MergeSort (Divide&Conquer) technique\n",
    "def mergesort(list_):\n",
    "    if (len(list_)) > 1:\n",
    "        len_ = len(list_)\n",
    "        mid = len_//2\n",
    "        left = list_[:mid]\n",
    "        right = list_[mid:]\n",
    "        \n",
    "        #recursive\n",
    "        mergesort(left)\n",
    "        mergesort(right)\n",
    "        \n",
    "        i = j = k = 0\n",
    "          \n",
    "        # Copy data to temp arrays: left[] and right[] \n",
    "        while i < len(left) and j < len(right): \n",
    "            if left[i] < right[j]: \n",
    "                list_[k] = left[i] \n",
    "                i+=1\n",
    "            else: \n",
    "                list_[k] = right[j] \n",
    "                j+=1\n",
    "            k+=1\n",
    "        # Checking if any element was left \n",
    "        while i < len(left): \n",
    "            list_[k] = left[i] \n",
    "            i+=1\n",
    "            k+=1\n",
    "          \n",
    "        while j < len(right): \n",
    "            list_[k] = right[j] \n",
    "            j+=1\n",
    "            k+=1\n",
    "    return list_\n",
    "\n",
    "if __name__ == '__main__':\n",
    "    start =time.time()\n",
    "    print(\"Sorted array is: \", \"\\n\", mergesort(generate_list_1()))\n",
    "    end = time.time()\n",
    "    print(\"time took to run the mergesort is: \", end-start)\n",
    "\n"
   ]
  },
  {
   "cell_type": "markdown",
   "metadata": {},
   "source": []
  },
  {
   "cell_type": "code",
   "execution_count": null,
   "metadata": {},
   "outputs": [],
   "source": [
    "\n"
   ]
  }
 ],
 "metadata": {
  "kernelspec": {
   "display_name": "Python 3",
   "language": "python",
   "name": "python3"
  },
  "language_info": {
   "codemirror_mode": {
    "name": "ipython",
    "version": 3
   },
   "file_extension": ".py",
   "mimetype": "text/x-python",
   "name": "python",
   "nbconvert_exporter": "python",
   "pygments_lexer": "ipython3",
   "version": "3.7.3"
  }
 },
 "nbformat": 4,
 "nbformat_minor": 2
}
