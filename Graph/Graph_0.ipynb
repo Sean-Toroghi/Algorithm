{
 "cells": [
  {
   "cell_type": "markdown",
   "id": "9eb2b6ba",
   "metadata": {},
   "source": [
    "<h1>Graph</h1> \n",
    "\n",
    "<h2>Basics</h2>\n",
    "\n",
    "- In a general form, a graph $G$ is represented by its vertices ($V$) and edges ($E$): $G(V,E)$. \n",
    "- Size of a graph has two components: number of vertices ($|V|=n$) and number of edges ($|E| =m$).\n",
    "- A graph with $n$ vertices, is called is _sparse_ if number of edges be close to $O(n)$, and is called _dense_ if the number of edges be close to $O(n^2)$.\n",
    "    - a graph is called _complete_, if all of possible edges present.\n",
    "    - for example a connected graph with no parallel edges, could have as little as $n-1$ edges and as high as $\\frac{n(n-1)}{2}$\n",
    "- There are two methods for representing a graph: _adjacency list_ and _adjacency matrix_. Adjacency list requires less space for storing a graph ($O(m+n)$) compare with adjacency matrix ($O(n^2)$). As the result, if both method are applicable, adjacency list is a preferred method.\n",
    "- Graphs are also classify by their edges as either _directed_ or _undirected_.\n",
    "    - in a directed graph, each edge corresponds to an ordered pair of vertices.\n",
    "    - in an undirected graph, each edge corresponds to an un-ordered pair of vertices.\n",
    " \n",
    " \n",
    " ---\n",
    "<h2>Generic graph search</h2>\n",
    "\n",
    "- Graph search algorithms are among the super fast algorithms (linear time). \n",
    "- __Goal__ of a generic search algorithm is given vertex $s$ to find all the reachable vertices from $s$ in the graph. Also, we don't want to explore any vertex twice.\n",
    "\n",
    "__Pseudocode: generic graph search algorithm__\n",
    "\n",
    "> Give graph $G$ and vertex $s$: \n",
    ">\n",
    "> initialize  $s$ as explored, all other vertices unexplored\n",
    ">\n",
    "> while exists an unexplored vertex:\n",
    ">> choose edge $(u,w)$ where $w$ is unxplored and $u$ is explored  //underspecified\n",
    ">>\n",
    ">> mark $w$ explored\n",
    "\n",
    "There are two approaches for choosing a frontier edges, each has their own applications. Computation time for both is linear ($O(m+n)$).\n",
    "\n",
    "- __Breadth-first-search__\n",
    "    - explore edges in layers: At each step, explore all the possible vertices that are neighbor to the current layer, before moving to the next layer.\n",
    "    - BFS employs queue data structure for storing the unexplored verteces\n",
    "    - applications:\n",
    "        - shortest path for both directed and undirected graphs\n",
    "        - find connected components of an undirected graph\n",
    "- __Depth-first search__\n",
    "    - it employs an aggressive approach to explore the frontier edges: keeps exploring the next vertex, until no unexplored vertex exist in the path, then backtrack and start exploring a new path, and keep doing the backtrack-explore until is no vertex left to explore.\n",
    "    - to implement, either we could use stack data structure, or implement via recursion\n",
    "    - applications:\n",
    "        - find topological order of a directed acyclic graph (DAG)\n",
    "        - find (strongly) connected components of a directed graph        "
   ]
  }
 ],
 "metadata": {
  "kernelspec": {
   "display_name": "general",
   "language": "python",
   "name": "general_p39"
  },
  "language_info": {
   "codemirror_mode": {
    "name": "ipython",
    "version": 3
   },
   "file_extension": ".py",
   "mimetype": "text/x-python",
   "name": "python",
   "nbconvert_exporter": "python",
   "pygments_lexer": "ipython3",
   "version": "3.9.7"
  }
 },
 "nbformat": 4,
 "nbformat_minor": 5
}
