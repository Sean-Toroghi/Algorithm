<h1>Graph</h1> 

<h2>Basics</h2>

- In a general form, a graph $G$ is represented by its vertices ($V$) and edges ($E$): $G(V,E)$. 
- Size of a graph has two components: number of vertices ($|V|=n$) and number of edges ($|E| =m$).
- A graph with $n$ vertices, is called is _sparse_ if number of edges be close to $O(n)$, and is called _dense_ if the number of edges be close to $O(n^2)$.
    - a graph is called _complete_, if all of possible edges present.
    - for example a connected graph with no parallel edges, could have as little as $n-1$ edges and as high as $\frac{n(n-1)}{2}$
- There are two methods for representing a graph: _adjacency list_ and _adjacency matrix_. Adjacency list requires less space for storing a graph ($O(m+n)$) compare with adjacency matrix ($O(n^2)$). As the result, if both method are applicable, adjacency list is a preferred method.
- Graphs are also classify by their edges as either _directed_ or _undirected_.
    - in a directed graph, each edge corresponds to an ordered pair of vertices.
    - in an undirected graph, each edge corresponds to an un-ordered pair of vertices.
 
 
 ---
<h2>Generic graph search</h2>

- Graph search algorithms are among the super fast algorithms (linear time). 
- __Goal__ of a generic search algorithm is given vertex $s$ to find all the reachable vertices from $s$ in the graph. Also, we don't want to explore any vertex twice.

__Pseudocode: generic graph search algorithm__

> Give graph $G$ and vertex $s$: 
>
> initialize  $s$ as explored, all other vertices unexplored
>
> while exists an unexplored vertex:
>> choose edge $(u,w)$ where $w$ is unxplored and $u$ is explored  //underspecified
>>
>> mark $w$ explored

There are two approaches for choosing a frontier edges, each has their own applications. Computation time for both is linear ($O(m+n)$).

- __Breadth-first-search__
    - explore edges in layers: At each step, explore all the possible vertices that are neighbor to the current layer, before moving to the next layer.
    - BFS employs queue data structure for storing the unexplored verteces
    - applications:
        - shortest path for both directed and undirected graphs
        - find connected components of an undirected graph
- __Depth-first search__
    - it employs an aggressive approach to explore the frontier edges: keeps exploring the next vertex, until no unexplored vertex exist in the path, then backtrack and start exploring a new path, and keep doing the backtrack-explore until is no vertex left to explore.
    - to implement, either we could use stack data structure, or implement via recursion
    - applications:
        - find topological order of a directed acyclic graph (DAG)
        - find (strongly) connected components of a directed graph        
